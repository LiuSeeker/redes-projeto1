{
 "cells": [
  {
   "cell_type": "code",
   "execution_count": 1,
   "metadata": {},
   "outputs": [
    {
     "data": {
      "text/html": [
       "        <script type=\"text/javascript\">\n",
       "        window.PlotlyConfig = {MathJaxConfig: 'local'};\n",
       "        if (window.MathJax) {MathJax.Hub.Config({SVG: {font: \"STIX-Web\"}});}\n",
       "        if (typeof require !== 'undefined') {\n",
       "        require.undef(\"plotly\");\n",
       "        requirejs.config({\n",
       "            paths: {\n",
       "                'plotly': ['https://cdn.plot.ly/plotly-latest.min']\n",
       "            }\n",
       "        });\n",
       "        require(['plotly'], function(Plotly) {\n",
       "            window._Plotly = Plotly;\n",
       "        });\n",
       "        }\n",
       "        </script>\n",
       "        "
      ]
     },
     "metadata": {},
     "output_type": "display_data"
    }
   ],
   "source": [
    "import networkx as nx\n",
    "import freeman as fm\n",
    "import matplotlib.pyplot as plt\n",
    "from pprint import pprint\n",
    "import pymysql\n",
    "import sys\n",
    "from collections import defaultdict"
   ]
  },
  {
   "cell_type": "code",
   "execution_count": 2,
   "metadata": {},
   "outputs": [],
   "source": [
    "from setup import mysql_setup\n",
    "conn = mysql_setup()"
   ]
  },
  {
   "cell_type": "code",
   "execution_count": 3,
   "metadata": {},
   "outputs": [],
   "source": [
    "anos = [['1940-01-01', '1949-12-31'], ['1950-01-01', '1959-12-31'],\n",
    "        ['1960-01-01', '1969-12-31'], ['1970-01-01', '1979-12-31'],\n",
    "        ['1980-01-01', '1989-12-31'], ['1990-01-01', '1999-12-31'],\n",
    "        ['2000-01-01', '2009-12-31'], ['2010-01-01', '2019-12-31']]"
   ]
  },
  {
   "cell_type": "code",
   "execution_count": 35,
   "metadata": {},
   "outputs": [],
   "source": [
    "def get_infos(dates):\n",
    "    with conn.cursor() as cursor:\n",
    "        try:\n",
    "            cursor.execute('''\n",
    "                SELECT\n",
    "                    t.track_name, pl.playlist_name\n",
    "                FROM\n",
    "                    Track t \n",
    "                    INNER JOIN Album_Track altr USING (id_track)\n",
    "                    INNER JOIN Album al USING (id_album)\n",
    "                    INNER JOIN Playlist_Track pltr USING (id_track)\n",
    "                    INNER JOIN Playlist pl USING (id_playlist)\n",
    "                WHERE\n",
    "                    al.release_date >= %s and al.release_date <= %s\n",
    "                ''', (dates[0], dates[1]))\n",
    "            ret = cursor.fetchall()\n",
    "        except pymysql.err.IntegrityError as e:\n",
    "            print(\"Erro: não foi possivel dar select em playlist\")\n",
    "            return None\n",
    "    return ret"
   ]
  },
  {
   "cell_type": "code",
   "execution_count": 62,
   "metadata": {},
   "outputs": [],
   "source": [
    "def faz_grafo(dic, ligacoes):\n",
    "    \n",
    "    g = nx.Graph()\n",
    "    \n",
    "    for ent in dic:\n",
    "        g.add_node(ent)\n",
    "        \n",
    "    keys = list(dic.keys())\n",
    "        \n",
    "    for i in range(len(dic)-1): #musicas\n",
    "        for pl1 in dic[keys[i]]: #playlists\n",
    "            for j in range(len(dic)-1-i): #musicas\n",
    "                count = 0\n",
    "                for pl2 in dic[keys[j+1+i]]: #playlists\n",
    "                    if pl1 == pl2:\n",
    "                        count += 1\n",
    "                if count >= ligacoes:\n",
    "                    g.add_edge(keys[i], keys[j+1+i])\n",
    "    \n",
    "    nodes_to_remove = []\n",
    "    \n",
    "    for node in g.nodes:\n",
    "        if len(g.edges(node)) < 1:\n",
    "            nodes_to_remove.append(node)\n",
    "            \n",
    "    for node in nodes_to_remove:\n",
    "        g.remove_node(node)\n",
    "    \n",
    "    return g"
   ]
  },
  {
   "cell_type": "code",
   "execution_count": 63,
   "metadata": {},
   "outputs": [],
   "source": [
    "for ano in anos:\n",
    "    infos = get_infos(ano)\n",
    "    d = defaultdict(list)\n",
    "    for info in infos:\n",
    "        d[info[0]].append(info[1])\n",
    "    break"
   ]
  },
  {
   "cell_type": "code",
   "execution_count": 148,
   "metadata": {},
   "outputs": [],
   "source": [
    "infos = get_infos(['2010-01-01', '2019-12-31'])\n",
    "d = defaultdict(list)\n",
    "for info in infos:\n",
    "    d[info[0]].append(info[1])"
   ]
  },
  {
   "cell_type": "markdown",
   "metadata": {},
   "source": [
    "pprint(d)"
   ]
  },
  {
   "cell_type": "code",
   "execution_count": 149,
   "metadata": {},
   "outputs": [],
   "source": [
    "g = faz_grafo(d, 1)"
   ]
  },
  {
   "cell_type": "code",
   "execution_count": 150,
   "metadata": {},
   "outputs": [],
   "source": [
    "nx.write_gml(g, \"test.gml\")"
   ]
  },
  {
   "cell_type": "code",
   "execution_count": 151,
   "metadata": {},
   "outputs": [],
   "source": [
    "g = fm.load('test.gml')"
   ]
  },
  {
   "cell_type": "code",
   "execution_count": null,
   "metadata": {},
   "outputs": [],
   "source": [
    "g.set_all_nodes('labpos', 'hover')\n",
    "g.move('kamada_kawai')\n",
    "g.interact()"
   ]
  },
  {
   "cell_type": "code",
   "execution_count": null,
   "metadata": {},
   "outputs": [],
   "source": [
    "g.draw()"
   ]
  },
  {
   "cell_type": "code",
   "execution_count": null,
   "metadata": {},
   "outputs": [],
   "source": []
  }
 ],
 "metadata": {
  "kernelspec": {
   "display_name": "Python 3",
   "language": "python",
   "name": "python3"
  },
  "language_info": {
   "codemirror_mode": {
    "name": "ipython",
    "version": 3
   },
   "file_extension": ".py",
   "mimetype": "text/x-python",
   "name": "python",
   "nbconvert_exporter": "python",
   "pygments_lexer": "ipython3",
   "version": "3.7.3"
  }
 },
 "nbformat": 4,
 "nbformat_minor": 2
}
