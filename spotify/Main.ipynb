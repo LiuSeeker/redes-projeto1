{
 "cells": [
  {
   "cell_type": "code",
   "execution_count": 7,
   "metadata": {},
   "outputs": [],
   "source": [
    "import networkx as nx\n",
    "import freeman as fm\n",
    "import matplotlib.pyplot as plt\n",
    "from pprint import pprint\n",
    "import pymysql\n",
    "import sys\n",
    "from collections import defaultdict, OrderedDict\n",
    "import graph_tool as gt\n",
    "from graph_tool import centrality, draw\n",
    "import pandas as pd\n",
    "import statsmodels as sm\n",
    "\n",
    "import pickle\n",
    "\n",
    "from setup import mysql_setup"
   ]
  },
  {
   "cell_type": "code",
   "execution_count": 8,
   "metadata": {},
   "outputs": [],
   "source": [
    "def get_infos():\n",
    "    conn = mysql_setup()    \n",
    "    with conn.cursor() as cursor:\n",
    "        try:\n",
    "            cursor.execute('''\n",
    "                SELECT\n",
    "                    t.id_track, tempt.id_playlist, t.popularity\n",
    "                FROM\n",
    "                    Track t \n",
    "                    INNER JOIN Temp_T tempt USING (id_track)\n",
    "                WHERE\n",
    "                    t.popularity > 55\n",
    "                ''')\n",
    "            ret = cursor.fetchall()\n",
    "        except pymysql.err.IntegrityError as e:\n",
    "            print(\"Erro: não foi possivel dar select em playlist\")\n",
    "            return None\n",
    "    conn.close()\n",
    "    return ret\n",
    "\n",
    "def faz_grafo(dic, ligacoes):\n",
    "    \n",
    "    g = gt.Graph(directed=False)\n",
    "    vp_p = g.new_vertex_property(\"int\")\n",
    "    vp_l = g.new_vertex_property(\"string\")\n",
    "    vp_d = g.new_vertex_property(\"int\")\n",
    "    \n",
    "    list_v = []\n",
    "    \n",
    "    \n",
    "    for ent in dic:\n",
    "        v_temp = g.add_vertex()\n",
    "        list_v.append(v_temp)\n",
    "        vp_p[v_temp] = ent[1]\n",
    "        vp_l[v_temp] = ent[0]\n",
    "        \n",
    "    keys = list(dic.keys())\n",
    "    \n",
    "    for i in range(len(dic)-1): #musicas\n",
    "        pl_count1 = 0\n",
    "        for pl1 in dic[keys[i]]: #playlists\n",
    "            for j in range(len(dic)-1-i): #musicas\n",
    "                count = 0\n",
    "                pl_count2 = 0\n",
    "                for pl2 in dic[keys[j+1+i]]: #playlists\n",
    "                    if pl1 == pl2:\n",
    "                        count += 1\n",
    "                    if count >= ligacoes:\n",
    "                        g.add_edge(list_v[i], list_v[j+1+i])\n",
    "                    pl_count2 += 1\n",
    "                    if pl_count2 >= 30:\n",
    "                        break\n",
    "            pl_count1 += 1\n",
    "            if pl_count1 >= 30:\n",
    "                break\n",
    "    \n",
    "    nodes_to_remove = []\n",
    "    \n",
    "    for node in reversed(sorted(g.vertices())):\n",
    "        degree = g.get_total_degrees([node])\n",
    "        if degree < 1:\n",
    "            nodes_to_remove.append(node)\n",
    "        else:\n",
    "            vp_d[node] = degree\n",
    "    \n",
    "    return g, vp_l, vp_p, vp_d\n",
    "\n",
    "def get_t_w_tt():\n",
    "    conn = mysql_setup()\n",
    "    with conn.cursor() as cursor:\n",
    "        try:\n",
    "            cursor.execute('''\n",
    "                SELECT\n",
    "                    t.id_track, tt.tag_name\n",
    "                FROM\n",
    "                    Track t \n",
    "                    INNER JOIN Track_Tag tt USING (id_track)\n",
    "                WHERE\n",
    "                    t.popularity > 55\n",
    "                ''')\n",
    "            res = cursor.fetchall()\n",
    "        except pymysql.err.IntegrityError as e:\n",
    "            print(\"Erro: não foi possivel criar table temp\")\n",
    "    conn.close()\n",
    "    \n",
    "    return res\n",
    "\n",
    "def analisa_e_salva_xlsx(g, vp_l, vp_p, vp_d, nome):\n",
    "    vp_b, ep_b = centrality.betweenness(g)\n",
    "    vp_c = centrality.closeness(g)\n",
    "    \n",
    "    lista_l = []\n",
    "    lista_p = []\n",
    "    lista_d = []\n",
    "    lista_b = []\n",
    "    lista_c = []\n",
    "    lista_e = []\n",
    "\n",
    "    for vertex in g.vertices():\n",
    "        lista_l.append(vp_l[vertex])\n",
    "        lista_p.append(vp_p[vertex])\n",
    "        lista_d.append(vp_d[vertex])\n",
    "        lista_b.append(vp_b[vertex])\n",
    "        lista_c.append(vp_c[vertex])\n",
    "        \n",
    "    listas = [lista_l, lista_p, lista_d, lista_b, lista_c]\n",
    "    with open(nome+\"_listas.pickle\", \"wb\") as fp:\n",
    "        pickle.dump(listas, fp)\n",
    "    \n",
    "    td_listas = list(zip(lista_l, lista_p, lista_d, lista_b, lista_c))\n",
    "    cols_name = [\"id_track\", \"popularity\", \"degree\", \"betweenness\", \"closeness\"]\n",
    "    df = pd.DataFrame(td_listas, columns=cols_name)\n",
    "    df.to_excel(nome+\".xlsx\")"
   ]
  },
  {
   "cell_type": "code",
   "execution_count": 7,
   "metadata": {
    "scrolled": true
   },
   "outputs": [],
   "source": [
    "res1 = get_t_w_tt()"
   ]
  },
  {
   "cell_type": "code",
   "execution_count": 8,
   "metadata": {},
   "outputs": [],
   "source": [
    "count_tag_track = {}\n",
    "for i in res1:\n",
    "    if i not in count_tag_track.keys():\n",
    "        count_tag_track[i] = 1\n",
    "    else:\n",
    "        count_tag_track[i] += 1"
   ]
  },
  {
   "cell_type": "code",
   "execution_count": 9,
   "metadata": {},
   "outputs": [],
   "source": [
    "count_dec_track = {}\n",
    "for j in count_tag_track:\n",
    "    if j[0] not in count_dec_track.keys():\n",
    "        count_dec_track[j[0]] = [0, 0, 0, 0, 0, 0]\n",
    "    if j[1] == \"sixties\" or j[1] == \"60s\" or j[1] == \"60's\":\n",
    "        count_dec_track[j[0]][0] += count_tag_track[j]\n",
    "    elif j[1] == \"seventies\" or j[1] == \"70s\" or j[1] == \"70's\":\n",
    "        count_dec_track[j[0]][1] += count_tag_track[j]\n",
    "    elif j[1] == \"eighties\" or j[1] == \"80s\" or j[1] == \"80's\":\n",
    "        count_dec_track[j[0]][2] += count_tag_track[j]\n",
    "    elif j[1] == \"nineties\" or j[1] == \"90s\" or j[1] == \"90's\":\n",
    "        count_dec_track[j[0]][3] += count_tag_track[j]\n",
    "    elif j[1] == \"00s\" or j[1] == \"00's\":\n",
    "        count_dec_track[j[0]][4] += count_tag_track[j]\n",
    "    elif j[1] == \"10s\" or j[1] == \"10's\":\n",
    "        count_dec_track[j[0]][5] += count_tag_track[j]"
   ]
  },
  {
   "cell_type": "code",
   "execution_count": 10,
   "metadata": {
    "scrolled": true
   },
   "outputs": [
    {
     "name": "stdout",
     "output_type": "stream",
     "text": [
      "3110 1754 2529 5236 5522 8435\n"
     ]
    }
   ],
   "source": [
    "list_60 = []\n",
    "list_70 = []\n",
    "list_80 = []\n",
    "list_90 = []\n",
    "list_00 = []\n",
    "list_10 = []\n",
    "\n",
    "for i in count_dec_track:\n",
    "    anos = count_dec_track[i]\n",
    "    max_index = anos.index(max(anos))\n",
    "    if max_index == 0:\n",
    "        list_60.append(i)\n",
    "    elif max_index == 1:\n",
    "        list_70.append(i)\n",
    "    elif max_index == 2:\n",
    "        list_80.append(i)\n",
    "    elif max_index == 3:\n",
    "        list_90.append(i)\n",
    "    elif max_index == 4:\n",
    "        list_00.append(i)\n",
    "    elif max_index == 5:\n",
    "        list_10.append(i)\n",
    "list_all = [list_60, list_70, list_80, list_90, list_00, list_10]\n",
    "print(len(list_60), len(list_70), len(list_80), len(list_90), len(list_00), len(list_10))\n",
    "with open(\"listas.pickle\", \"wb\") as fp:\n",
    "    pickle.dump(list_all, fp)"
   ]
  },
  {
   "cell_type": "code",
   "execution_count": 11,
   "metadata": {},
   "outputs": [
    {
     "data": {
      "text/plain": [
       "'00bOhb4584JjyfTiXX81mO'"
      ]
     },
     "execution_count": 11,
     "metadata": {},
     "output_type": "execute_result"
    }
   ],
   "source": [
    "list_60[0]"
   ]
  },
  {
   "cell_type": "code",
   "execution_count": null,
   "metadata": {
    "scrolled": true
   },
   "outputs": [],
   "source": [
    "infos = get_infos()"
   ]
  },
  {
   "cell_type": "code",
   "execution_count": null,
   "metadata": {},
   "outputs": [],
   "source": [
    "d = defaultdict(list)\n",
    "for info in infos:\n",
    "    d[(info[0], info[2])].append(info[1])\n",
    "    \n",
    "with open(\"infos.pickle\", \"wb\") as fp:\n",
    "    pickle.dump(d, fp)"
   ]
  },
  {
   "cell_type": "code",
   "execution_count": null,
   "metadata": {},
   "outputs": [],
   "source": [
    "j = 0\n",
    "for i in d:\n",
    "    print(i, d[i])\n",
    "    j += 1\n",
    "    if j > 3:\n",
    "        break"
   ]
  },
  {
   "cell_type": "code",
   "execution_count": null,
   "metadata": {
    "scrolled": true
   },
   "outputs": [],
   "source": [
    "d_60 = {}\n",
    "d_70 = {}\n",
    "d_80 = {}\n",
    "d_90 = {}\n",
    "d_00 = {}\n",
    "for k in d.keys():\n",
    "    k_id = k[0]\n",
    "    if len(d[k]) < 2:\n",
    "        continue\n",
    "    if (any(k_id in i for i in list_60)):\n",
    "        d_60[k] = d[k]\n",
    "    elif (any(k_id in i for i in list_70)):\n",
    "        d_70[k] = d[k]\n",
    "    elif (any(k_id in i for i in list_80)):\n",
    "        d_80[k] = d[k]\n",
    "    elif (any(k_id in i for i in list_90)):\n",
    "        d_90[k] = d[k]\n",
    "    elif (any(k_id in i for i in list_00)):\n",
    "        d_00[k] = d[k]\n",
    "with open(\"infos2.pickle\", \"wb\") as fp:\n",
    "    pickle.dump([d_60, d_70, d_80, d_90, d_00], fp)"
   ]
  },
  {
   "cell_type": "code",
   "execution_count": null,
   "metadata": {},
   "outputs": [],
   "source": [
    "j = 0\n",
    "for i in d_60:\n",
    "    print(i, d_60[i])\n",
    "    j += 1\n",
    "    if j > 3:\n",
    "        break"
   ]
  },
  {
   "cell_type": "code",
   "execution_count": null,
   "metadata": {},
   "outputs": [],
   "source": []
  },
  {
   "cell_type": "code",
   "execution_count": null,
   "metadata": {},
   "outputs": [],
   "source": []
  },
  {
   "cell_type": "code",
   "execution_count": 3,
   "metadata": {},
   "outputs": [],
   "source": [
    "with open(\"listas.pickle\", \"rb\") as fp:\n",
    "    list_60, list_70, list_80, list_90, list_00, list_10 = pickle.load(fp)\n",
    "with open(\"infos.pickle\", \"rb\") as fp:\n",
    "    d = pickle.load(fp)\n",
    "with open(\"infos2.pickle\", \"rb\") as fp:\n",
    "    d_60, d_70, d_80, d_90, d_00 = pickle.load(fp)"
   ]
  },
  {
   "cell_type": "code",
   "execution_count": null,
   "metadata": {},
   "outputs": [],
   "source": []
  },
  {
   "cell_type": "code",
   "execution_count": null,
   "metadata": {},
   "outputs": [],
   "source": []
  },
  {
   "cell_type": "code",
   "execution_count": 48,
   "metadata": {},
   "outputs": [],
   "source": [
    "g, vp_l, vp_p, vp_d = faz_grafo(d_60, 1)"
   ]
  },
  {
   "cell_type": "code",
   "execution_count": 49,
   "metadata": {},
   "outputs": [],
   "source": [
    "vp_b, ep_b = centrality.betweenness(g)"
   ]
  },
  {
   "cell_type": "code",
   "execution_count": 50,
   "metadata": {},
   "outputs": [],
   "source": [
    "vp_c = centrality.closeness(g)"
   ]
  },
  {
   "cell_type": "code",
   "execution_count": 51,
   "metadata": {},
   "outputs": [],
   "source": [
    "#vp_evalue, vp_evector = centrality.eigenvector(g)"
   ]
  },
  {
   "cell_type": "code",
   "execution_count": 52,
   "metadata": {
    "scrolled": true
   },
   "outputs": [],
   "source": [
    "lista_l = []\n",
    "lista_p = []\n",
    "lista_d = []\n",
    "lista_b = []\n",
    "lista_c = []\n",
    "lista_e = []\n",
    "\n",
    "for vertex in g.vertices():\n",
    "    lista_l.append(vp_l[vertex])\n",
    "    lista_p.append(vp_p[vertex])\n",
    "    lista_d.append(vp_d[vertex])\n",
    "    lista_b.append(vp_b[vertex])\n",
    "    lista_c.append(vp_c[vertex])\n",
    "    #lista_e.append(vp_evector[vertex])"
   ]
  },
  {
   "cell_type": "code",
   "execution_count": 53,
   "metadata": {},
   "outputs": [
    {
     "name": "stdout",
     "output_type": "stream",
     "text": [
      "2461 2461 2461\n"
     ]
    }
   ],
   "source": [
    "print(len(lista_l), len(lista_p), len(lista_d))\n",
    "td_listas = list(zip(lista_l, lista_p, lista_d, lista_b, lista_c))"
   ]
  },
  {
   "cell_type": "code",
   "execution_count": 54,
   "metadata": {},
   "outputs": [
    {
     "data": {
      "text/html": [
       "<div>\n",
       "<style scoped>\n",
       "    .dataframe tbody tr th:only-of-type {\n",
       "        vertical-align: middle;\n",
       "    }\n",
       "\n",
       "    .dataframe tbody tr th {\n",
       "        vertical-align: top;\n",
       "    }\n",
       "\n",
       "    .dataframe thead th {\n",
       "        text-align: right;\n",
       "    }\n",
       "</style>\n",
       "<table border=\"1\" class=\"dataframe\">\n",
       "  <thead>\n",
       "    <tr style=\"text-align: right;\">\n",
       "      <th></th>\n",
       "      <th>id_track</th>\n",
       "      <th>popularity</th>\n",
       "      <th>degree</th>\n",
       "      <th>betweenness</th>\n",
       "      <th>closeness</th>\n",
       "    </tr>\n",
       "  </thead>\n",
       "  <tbody>\n",
       "    <tr>\n",
       "      <th>0</th>\n",
       "      <td>00bOhb4584JjyfTiXX81mO</td>\n",
       "      <td>59</td>\n",
       "      <td>745</td>\n",
       "      <td>0.000007</td>\n",
       "      <td>0.406636</td>\n",
       "    </tr>\n",
       "    <tr>\n",
       "      <th>1</th>\n",
       "      <td>00FRRwuaJP9KimukvLQCOz</td>\n",
       "      <td>61</td>\n",
       "      <td>470</td>\n",
       "      <td>0.000018</td>\n",
       "      <td>0.404880</td>\n",
       "    </tr>\n",
       "    <tr>\n",
       "      <th>2</th>\n",
       "      <td>00hVU6kDP67JHurfwG2dtq</td>\n",
       "      <td>66</td>\n",
       "      <td>32</td>\n",
       "      <td>0.000333</td>\n",
       "      <td>0.331611</td>\n",
       "    </tr>\n",
       "    <tr>\n",
       "      <th>3</th>\n",
       "      <td>00meczE1jpLTX0BBzIGrAR</td>\n",
       "      <td>61</td>\n",
       "      <td>18852</td>\n",
       "      <td>0.000839</td>\n",
       "      <td>0.473133</td>\n",
       "    </tr>\n",
       "    <tr>\n",
       "      <th>4</th>\n",
       "      <td>00oZhqZIQfL9P5CjOP6JsO</td>\n",
       "      <td>59</td>\n",
       "      <td>10902</td>\n",
       "      <td>0.001215</td>\n",
       "      <td>0.469309</td>\n",
       "    </tr>\n",
       "  </tbody>\n",
       "</table>\n",
       "</div>"
      ],
      "text/plain": [
       "                 id_track  popularity  degree  betweenness  closeness\n",
       "0  00bOhb4584JjyfTiXX81mO          59     745     0.000007   0.406636\n",
       "1  00FRRwuaJP9KimukvLQCOz          61     470     0.000018   0.404880\n",
       "2  00hVU6kDP67JHurfwG2dtq          66      32     0.000333   0.331611\n",
       "3  00meczE1jpLTX0BBzIGrAR          61   18852     0.000839   0.473133\n",
       "4  00oZhqZIQfL9P5CjOP6JsO          59   10902     0.001215   0.469309"
      ]
     },
     "execution_count": 54,
     "metadata": {},
     "output_type": "execute_result"
    }
   ],
   "source": [
    "cols_name = [\"id_track\", \"popularity\", \"degree\", \"betweenness\", \"closeness\"]\n",
    "df = pd.DataFrame(td_listas, columns=cols_name)\n",
    "df.head()"
   ]
  },
  {
   "cell_type": "code",
   "execution_count": 55,
   "metadata": {},
   "outputs": [],
   "source": [
    "df.to_excel(\"d_60_1.xlsx\")"
   ]
  },
  {
   "cell_type": "code",
   "execution_count": null,
   "metadata": {},
   "outputs": [],
   "source": []
  },
  {
   "cell_type": "code",
   "execution_count": 9,
   "metadata": {
    "scrolled": true
   },
   "outputs": [],
   "source": [
    "g, vp_l, vp_p, vp_d = faz_grafo(d_60, 1)\n",
    "analisa_e_salva_xlsx(g, vp_l, vp_p, vp_d, \"d_60_1\")"
   ]
  },
  {
   "cell_type": "code",
   "execution_count": null,
   "metadata": {},
   "outputs": [],
   "source": []
  },
  {
   "cell_type": "code",
   "execution_count": null,
   "metadata": {},
   "outputs": [],
   "source": [
    "g, vp_l, vp_p, vp_d = faz_grafo(d_60, 2)\n",
    "analisa_e_salva_xlsx(g, vp_l, vp_p, vp_d, \"d_60_2\")"
   ]
  },
  {
   "cell_type": "code",
   "execution_count": null,
   "metadata": {},
   "outputs": [],
   "source": []
  },
  {
   "cell_type": "code",
   "execution_count": 10,
   "metadata": {},
   "outputs": [],
   "source": [
    "g, vp_l, vp_p, vp_d = faz_grafo(d_70, 1)\n",
    "analisa_e_salva_xlsx(g, vp_l, vp_p, vp_d, \"d_70_1\")"
   ]
  },
  {
   "cell_type": "code",
   "execution_count": 45,
   "metadata": {},
   "outputs": [],
   "source": []
  },
  {
   "cell_type": "code",
   "execution_count": null,
   "metadata": {},
   "outputs": [],
   "source": [
    "g, vp_l, vp_p, vp_d = faz_grafo(d_70, 2)\n",
    "analisa_e_salva_xlsx(g, vp_l, vp_p, vp_d, \"d_70_2\")"
   ]
  },
  {
   "cell_type": "code",
   "execution_count": null,
   "metadata": {},
   "outputs": [],
   "source": []
  },
  {
   "cell_type": "code",
   "execution_count": 60,
   "metadata": {},
   "outputs": [],
   "source": [
    "g, vp_l, vp_p, vp_d = faz_grafo(d_70, 3)\n",
    "analisa_e_salva_xlsx(g, vp_l, vp_p, vp_d, \"d_70_3.xlsx\")"
   ]
  },
  {
   "cell_type": "code",
   "execution_count": null,
   "metadata": {},
   "outputs": [],
   "source": []
  },
  {
   "cell_type": "code",
   "execution_count": 11,
   "metadata": {},
   "outputs": [],
   "source": [
    "g, vp_l, vp_p, vp_d = faz_grafo(d_80, 1)\n",
    "analisa_e_salva_xlsx(g, vp_l, vp_p, vp_d, \"d_80_1\")"
   ]
  },
  {
   "cell_type": "code",
   "execution_count": null,
   "metadata": {},
   "outputs": [],
   "source": []
  },
  {
   "cell_type": "code",
   "execution_count": 62,
   "metadata": {},
   "outputs": [],
   "source": [
    "g, vp_l, vp_p, vp_d = faz_grafo(d_80, 2)\n",
    "analisa_e_salva_xlsx(g, vp_l, vp_p, vp_d, \"d_80_2.xlsx\")"
   ]
  },
  {
   "cell_type": "code",
   "execution_count": null,
   "metadata": {},
   "outputs": [],
   "source": []
  },
  {
   "cell_type": "code",
   "execution_count": 63,
   "metadata": {},
   "outputs": [],
   "source": [
    "g, vp_l, vp_p, vp_d = faz_grafo(d_80, 3)\n",
    "analisa_e_salva_xlsx(g, vp_l, vp_p, vp_d, \"d_80_3.xlsx\")"
   ]
  },
  {
   "cell_type": "code",
   "execution_count": null,
   "metadata": {},
   "outputs": [],
   "source": []
  },
  {
   "cell_type": "code",
   "execution_count": 12,
   "metadata": {},
   "outputs": [],
   "source": [
    "g, vp_l, vp_p, vp_d = faz_grafo(d_90, 1)\n",
    "analisa_e_salva_xlsx(g, vp_l, vp_p, vp_d, \"d_90_1\")"
   ]
  },
  {
   "cell_type": "code",
   "execution_count": null,
   "metadata": {},
   "outputs": [],
   "source": []
  },
  {
   "cell_type": "code",
   "execution_count": 75,
   "metadata": {},
   "outputs": [],
   "source": [
    "g, vp_l, vp_p, vp_d = faz_grafo(d_90, 2)\n",
    "analisa_e_salva_xlsx(g, vp_l, vp_p, vp_d, \"d_90_2.xlsx\")"
   ]
  },
  {
   "cell_type": "code",
   "execution_count": null,
   "metadata": {},
   "outputs": [],
   "source": []
  },
  {
   "cell_type": "code",
   "execution_count": 13,
   "metadata": {},
   "outputs": [],
   "source": [
    "g, vp_l, vp_p, vp_d = faz_grafo(d_00, 1)\n",
    "analisa_e_salva_xlsx(g, vp_l, vp_p, vp_d, \"d_00_1\")"
   ]
  },
  {
   "cell_type": "code",
   "execution_count": null,
   "metadata": {},
   "outputs": [],
   "source": []
  },
  {
   "cell_type": "code",
   "execution_count": 76,
   "metadata": {},
   "outputs": [],
   "source": [
    "g, vp_l, vp_p, vp_d = faz_grafo(d_00, 2)\n",
    "analisa_e_salva_xlsx(g, vp_l, vp_p, vp_d, \"d_00_2.xlsx\")"
   ]
  },
  {
   "cell_type": "code",
   "execution_count": null,
   "metadata": {},
   "outputs": [],
   "source": []
  },
  {
   "cell_type": "code",
   "execution_count": 28,
   "metadata": {},
   "outputs": [
    {
     "ename": "NameError",
     "evalue": "name 'conn' is not defined",
     "output_type": "error",
     "traceback": [
      "\u001b[0;31m---------------------------------------------------------------------------\u001b[0m",
      "\u001b[0;31mNameError\u001b[0m                                 Traceback (most recent call last)",
      "\u001b[0;32m<ipython-input-28-8dd0cd799055>\u001b[0m in \u001b[0;36m<module>\u001b[0;34m\u001b[0m\n\u001b[0;32m----> 1\u001b[0;31m \u001b[0mconn\u001b[0m\u001b[0;34m.\u001b[0m\u001b[0mclose\u001b[0m\u001b[0;34m(\u001b[0m\u001b[0;34m)\u001b[0m\u001b[0;34m\u001b[0m\u001b[0;34m\u001b[0m\u001b[0m\n\u001b[0m",
      "\u001b[0;31mNameError\u001b[0m: name 'conn' is not defined"
     ]
    }
   ],
   "source": [
    "conn.close()"
   ]
  },
  {
   "cell_type": "code",
   "execution_count": null,
   "metadata": {},
   "outputs": [],
   "source": []
  }
 ],
 "metadata": {
  "kernelspec": {
   "display_name": "Python 3",
   "language": "python",
   "name": "python3"
  },
  "language_info": {
   "codemirror_mode": {
    "name": "ipython",
    "version": 3
   },
   "file_extension": ".py",
   "mimetype": "text/x-python",
   "name": "python",
   "nbconvert_exporter": "python",
   "pygments_lexer": "ipython3",
   "version": "3.6.8"
  }
 },
 "nbformat": 4,
 "nbformat_minor": 2
}
