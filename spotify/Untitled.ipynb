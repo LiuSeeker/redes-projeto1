{
 "cells": [
  {
   "cell_type": "code",
   "execution_count": 23,
   "metadata": {},
   "outputs": [
    {
     "data": {
      "text/html": [
       "        <script type=\"text/javascript\">\n",
       "        window.PlotlyConfig = {MathJaxConfig: 'local'};\n",
       "        if (window.MathJax) {MathJax.Hub.Config({SVG: {font: \"STIX-Web\"}});}\n",
       "        if (typeof require !== 'undefined') {\n",
       "        require.undef(\"plotly\");\n",
       "        requirejs.config({\n",
       "            paths: {\n",
       "                'plotly': ['https://cdn.plot.ly/plotly-latest.min']\n",
       "            }\n",
       "        });\n",
       "        require(['plotly'], function(Plotly) {\n",
       "            window._Plotly = Plotly;\n",
       "        });\n",
       "        }\n",
       "        </script>\n",
       "        "
      ]
     },
     "metadata": {},
     "output_type": "display_data"
    }
   ],
   "source": [
    "import networkx as nx\n",
    "import freeman as fm\n",
    "import matplotlib.pyplot as plt\n",
    "from pprint import pprint\n",
    "import pymysql\n",
    "import sys"
   ]
  },
  {
   "cell_type": "code",
   "execution_count": 24,
   "metadata": {},
   "outputs": [],
   "source": [
    "from setup import mysql_setup\n",
    "conn = mysql_setup()"
   ]
  },
  {
   "cell_type": "code",
   "execution_count": 25,
   "metadata": {},
   "outputs": [],
   "source": [
    "g = nx.Graph()\n"
   ]
  },
  {
   "cell_type": "code",
   "execution_count": 26,
   "metadata": {},
   "outputs": [],
   "source": [
    "with conn.cursor() as cursor:\n",
    "    try:\n",
    "        cursor.execute(\"SELECT * FROM Playlist\")\n",
    "        playlists = cursor.fetchall()\n",
    "    except pymysql.err.IntegrityError as e:\n",
    "        print(\"Erro: não foi possivel dar select em playlist\")\n",
    "        pass"
   ]
  },
  {
   "cell_type": "code",
   "execution_count": 27,
   "metadata": {},
   "outputs": [
    {
     "name": "stdout",
     "output_type": "stream",
     "text": [
      "(('01pNIDYGqmeawppy32wr3D', '2000s Hip Hop', 'warnermusicus', 0, 1),\n",
      " ('37i9dQZF1DWT5MrZnPU1zD', 'Hip Hop Controller', 'spotify', 0, 1),\n",
      " ('37i9dQZF1DWTVIaV4KJYuq', 'Classic Covers', 'spotify', 0, 1),\n",
      " ('37i9dQZF1DWTwnEm1IYyoj', 'Soft Pop Hits', 'spotify', 0, 1),\n",
      " ('37i9dQZF1DWU6MDxlH7Sr1', 'Cocktail Jazz', 'spotify', 0, 1),\n",
      " ('37i9dQZF1DWUa8ZRTfalHk', 'Pop Rising', 'spotify', 0, 1),\n",
      " ('37i9dQZF1DWUFmyho2wkQU', 'Hip-Hop Drive', 'spotify', 0, 1),\n",
      " ('37i9dQZF1DWVLcZxJO5zyf', 'Pop Brasil', 'spotify', 0, 1),\n",
      " ('37i9dQZF1DWVqfgj8NZEp1', 'Coffee Table Jazz', 'spotify', 0, 1),\n",
      " ('37i9dQZF1DWXJnyndhASBe', 'Generacja Hip Hop', 'spotify', 0, 1),\n",
      " ('37i9dQZF1DWXRqgorJj26U', 'Rock Classics', 'spotify', 0, 1),\n",
      " ('37i9dQZF1DWXTHBOfJ8aI7', 'Légendes du Rock', 'spotify', 0, 1),\n",
      " ('37i9dQZF1DWY6tYEFs22tT', 'Hip-Hop Central', 'spotify', 0, 1),\n",
      " ('37i9dQZF1DWYDQ8wBxd7xt', 'Pinoy Classic Rock', 'spotify', 0, 1),\n",
      " ('37i9dQZF1DWYNSm3Z3MxiM', 'Classic Rock Workout', 'spotify', 0, 1),\n",
      " ('37i9dQZF1DWZeuoGxfO4e2', 'Iconos del Rock Latinoamericano', 'spotify', 0, 1),\n",
      " ('37i9dQZF1DWZryfp6NSvtz', 'All New Rock', 'spotify', 0, 1),\n",
      " ('37i9dQZF1DWZU5DGR2xCSH', 'Iconos del Rock Argentino', 'spotify', 0, 1),\n",
      " ('37i9dQZF1DWZv6UE8BMPO0', 'Christmas Cocktail Jazz', 'spotify', 0, 1),\n",
      " ('37i9dQZF1DX0sDai2F5jCQ', 'A1 Hip-Hop', 'spotify', 0, 1),\n",
      " ('37i9dQZF1DX0SM0LYsmbMT', 'Jazz Vibes', 'spotify', 0, 1),\n",
      " ('37i9dQZF1DX0XUsuxWHRQd', 'RapCaviar', 'spotify', 0, 1),\n",
      " ('37i9dQZF1DX2Nc3B70tvx0', 'Ultimate Indie', 'spotify', 0, 1),\n",
      " ('37i9dQZF1DX2S9rTKTX6JP', 'Rock Covers', 'spotify', 0, 1),\n",
      " ('37i9dQZF1DX2vYju3i0lNX', 'Chilled Jazz', 'spotify', 0, 1),\n",
      " ('37i9dQZF1DX3LDIBRoaCDQ', 'Classic Punk', 'spotify', 0, 1),\n",
      " ('37i9dQZF1DX48TTZL62Yht', 'Hip-Hop Favourites', 'spotify', 0, 1),\n",
      " ('37i9dQZF1DX4wta20PHgwo', 'Late Night Jazz', 'spotify', 0, 1),\n",
      " ('37i9dQZF1DX4YhSbTs17ha', 'Sólo Pop', 'spotify', 0, 1),\n",
      " ('37i9dQZF1DX504r1DvyvxG', 'Classic Acoustic', 'spotify', 0, 1),\n",
      " ('37i9dQZF1DX50QitC6Oqtn', 'Love Pop', 'spotify', 0, 1),\n",
      " ('37i9dQZF1DX56bqlsMxJYR', 'Classic Oldies', 'spotify', 0, 1),\n",
      " ('37i9dQZF1DX5gQonLbZD9s', 'Pumped Pop', 'spotify', 0, 1),\n",
      " ('37i9dQZF1DX661EjJOj3Tu', 'Latin Jazz', 'spotify', 0, 1),\n",
      " ('37i9dQZF1DX6aTaZa0K6VA', 'Pop Up', 'spotify', 0, 1),\n",
      " ('37i9dQZF1DX6xOPeSOGone', 'Soft Rock', 'spotify', 0, 1),\n",
      " ('37i9dQZF1DX8FwnYE6PRvL', 'Rock Party', 'spotify', 0, 1),\n",
      " ('37i9dQZF1DX8Kgdykz6OKj', 'Jazz Rap', 'spotify', 0, 1),\n",
      " ('37i9dQZF1DX9ASuQophyb3', 'Türkçe Pop', 'spotify', 0, 1),\n",
      " ('37i9dQZF1DX9wC1KY45plY', 'Classic Road Trip Songs', 'spotify', 0, 1),\n",
      " ('37i9dQZF1DXaPCIWxzZwR1', 'Pop Sauce', 'spotify', 0, 1),\n",
      " ('37i9dQZF1DXbHcQpOiXk1D', 'Jazz UK', 'spotify', 0, 1),\n",
      " ('37i9dQZF1DXbITWG1ZJKYt', 'Jazz Classics', 'spotify', 0, 1),\n",
      " ('37i9dQZF1DXc8kgYqQLMfH', 'Lush Lofi', 'spotify', 0, 1),\n",
      " ('37i9dQZF1DXcF6B6QPhFDv', 'Rock This', 'spotify', 0, 1),\n",
      " ('37i9dQZF1DXcmaoFmN75bi', 'Rock Forever', 'spotify', 0, 1),\n",
      " ('37i9dQZF1DXcZDD7cfEKhW', 'Pop Remix', 'spotify', 0, 1),\n",
      " ('37i9dQZF1DXdOEFt9ZX0dh', 'Classic Rock Drive', 'spotify', 0, 1),\n",
      " ('37i9dQZF1DXdwTUxmGKrdN', 'Smooth Jazz', 'spotify', 0, 1),\n",
      " ('5BygwTQ3OrbiwVsQhXFHMz', 'Classic Rock', 'sonymusicfinland', 0, 1))\n"
     ]
    }
   ],
   "source": [
    "pprint(playlists)"
   ]
  },
  {
   "cell_type": "code",
   "execution_count": 28,
   "metadata": {},
   "outputs": [],
   "source": [
    "def return_tracks(id_playlist):\n",
    "    with conn.cursor() as cursor:\n",
    "        try:\n",
    "            cursor.execute(\"SELECT * FROM Playlist_Track WHERE id_playlist = %s\", (id_playlist))\n",
    "            tracks = cursor.fetchall()\n",
    "        except pymysql.err.IntegrityError as e:\n",
    "            print(\"Erro: não foi possivel dar select em playlist\")\n",
    "            sys.exit()\n",
    "    return tracks"
   ]
  },
  {
   "cell_type": "code",
   "execution_count": 29,
   "metadata": {},
   "outputs": [],
   "source": [
    "for playlist in playlists:\n",
    "    g.add_node(playlist[1])\n",
    "\n",
    "for playlists_index1 in range(len(playlists)-1):\n",
    "    tracks_1 = return_tracks(playlists[playlists_index1][0])\n",
    "    \n",
    "    if len(tracks_1) == 0:\n",
    "        continue\n",
    "        \n",
    "    for playlists_index2 in range(len(playlists)-1-playlists_index1):\n",
    "        tracks_2 = return_tracks(playlists[playlists_index1+playlists_index2+1][0])\n",
    "        \n",
    "        if len(tracks_2) == 0:\n",
    "            continue\n",
    "\n",
    "        count = 0\n",
    "        \n",
    "        for t1 in tracks_1:\n",
    "            for t2 in tracks_2:\n",
    "                if t1[1] == t2[1]:\n",
    "                    count += 1\n",
    "    \n",
    "        g.add_edge(playlists[playlists_index1][1], playlists[playlists_index1+playlists_index2+1][1] , weight=count)"
   ]
  },
  {
   "cell_type": "code",
   "execution_count": 33,
   "metadata": {},
   "outputs": [],
   "source": [
    "nx.write_gml(g, \"test.gml\")"
   ]
  },
  {
   "cell_type": "code",
   "execution_count": 34,
   "metadata": {},
   "outputs": [],
   "source": [
    "g = fm.load('test.gml')"
   ]
  },
  {
   "cell_type": "code",
   "execution_count": 38,
   "metadata": {},
   "outputs": [
    {
     "data": {
      "text/html": [
       "\n",
       "        <iframe\n",
       "            width=\"810\"\n",
       "            height=\"460\"\n",
       "            src=\"__fmcache__\\2128846375752.html\"\n",
       "            frameborder=\"0\"\n",
       "            allowfullscreen\n",
       "        ></iframe>\n",
       "        "
      ],
      "text/plain": [
       "<IPython.lib.display.IFrame at 0x1efa93a8cf8>"
      ]
     },
     "metadata": {},
     "output_type": "display_data"
    }
   ],
   "source": [
    "g.set_all_nodes('labpos', 'hover')\n",
    "g.move('kamada_kawai')\n",
    "g.interact()"
   ]
  },
  {
   "cell_type": "code",
   "execution_count": null,
   "metadata": {},
   "outputs": [],
   "source": []
  }
 ],
 "metadata": {
  "kernelspec": {
   "display_name": "Python 3",
   "language": "python",
   "name": "python3"
  },
  "language_info": {
   "codemirror_mode": {
    "name": "ipython",
    "version": 3
   },
   "file_extension": ".py",
   "mimetype": "text/x-python",
   "name": "python",
   "nbconvert_exporter": "python",
   "pygments_lexer": "ipython3",
   "version": "3.7.3"
  }
 },
 "nbformat": 4,
 "nbformat_minor": 2
}
