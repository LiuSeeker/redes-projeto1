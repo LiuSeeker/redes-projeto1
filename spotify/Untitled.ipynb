{
 "cells": [
  {
   "cell_type": "code",
   "execution_count": 20,
   "metadata": {},
   "outputs": [],
   "source": [
    "import networkx as nx\n",
    "import freeman as fm\n",
    "import matplotlib.pyplot as plt\n",
    "from pprint import pprint\n",
    "import pymysql\n",
    "import sys"
   ]
  },
  {
   "cell_type": "code",
   "execution_count": 21,
   "metadata": {},
   "outputs": [],
   "source": [
    "from setup import mysql_setup\n",
    "conn = mysql_setup()"
   ]
  },
  {
   "cell_type": "code",
   "execution_count": 22,
   "metadata": {},
   "outputs": [],
   "source": [
    "g = nx.Graph()\n"
   ]
  },
  {
   "cell_type": "code",
   "execution_count": 23,
   "metadata": {},
   "outputs": [],
   "source": [
    "with conn.cursor() as cursor:\n",
    "    try:\n",
    "        cursor.execute(\"SELECT * FROM Playlist\")\n",
    "        playlists = cursor.fetchall()\n",
    "    except pymysql.err.IntegrityError as e:\n",
    "        print(\"Erro: não foi possivel dar select em playlist\")\n",
    "        pass"
   ]
  },
  {
   "cell_type": "code",
   "execution_count": 24,
   "metadata": {},
   "outputs": [],
   "source": [
    "def return_tracks(id_playlist):\n",
    "    with conn.cursor() as cursor:\n",
    "        try:\n",
    "            cursor.execute(\"SELECT * FROM Playlist_Track WHERE id_playlist = %s\", (id_playlist))\n",
    "            tracks = cursor.fetchall()\n",
    "        except pymysql.err.IntegrityError as e:\n",
    "            print(\"Erro: não foi possivel dar select em playlist\")\n",
    "            sys.exit()\n",
    "    return tracks"
   ]
  },
  {
   "cell_type": "code",
   "execution_count": 25,
   "metadata": {},
   "outputs": [
    {
     "name": "stdout",
     "output_type": "stream",
     "text": [
      "0\n",
      "0\n",
      "0\n",
      "0\n",
      "0\n",
      "0\n",
      "100\n",
      "0\n",
      "64\n",
      "0\n",
      "0\n",
      "0\n",
      "0\n",
      "0\n",
      "0\n",
      "0\n",
      "95\n",
      "0\n",
      "0\n",
      "0\n",
      "0\n",
      "0\n",
      "0\n",
      "0\n",
      "0\n",
      "0\n",
      "100\n",
      "50\n",
      "0\n",
      "0\n",
      "0\n",
      "0\n",
      "0\n",
      "0\n",
      "0\n",
      "0\n",
      "0\n",
      "0\n",
      "0\n",
      "0\n",
      "60\n",
      "0\n",
      "0\n",
      "0\n",
      "0\n",
      "0\n",
      "39\n",
      "0\n",
      "0\n",
      "0\n",
      "0\n",
      "45\n",
      "50\n",
      "26\n",
      "70\n",
      "0\n",
      "0\n",
      "0\n",
      "0\n",
      "0\n",
      "100\n",
      "0\n",
      "82\n",
      "0\n",
      "27\n",
      "0\n",
      "0\n",
      "0\n",
      "62\n",
      "0\n"
     ]
    }
   ],
   "source": [
    "for playlist in playlists:\n",
    "    tracks = return_tracks(playlist[0])\n",
    "    g.add_node(playlist[1])\n",
    "\n",
    "for playlists_index1 in range(len(playlists)-1):\n",
    "    tracks_1 = return_tracks(playlists[playlists_index1][0])\n",
    "    \n",
    "    if len(tracks_1) == 0:\n",
    "        continue\n",
    "        \n",
    "    for playlists_index2 in range(len(playlists)-1-playlists_index1):\n",
    "        tracks_2 = return_tracks(playlists[playlists_index1+playlists_index2+1][0])\n",
    "        \n",
    "        if len(tracks_2) == 0:\n",
    "            continue\n",
    "\n",
    "        count = 0\n",
    "        \n",
    "        for t1 in tracks_1:\n",
    "            for t2 in tracks_2:\n",
    "                if t1[1] == t2[1]:\n",
    "                    count += 1\n",
    "    \n",
    "        g.add_edge(playlists[playlists_index1][1], playlists[playlists_index1+playlists_index2+1][1] , weight=count)"
   ]
  },
  {
   "cell_type": "code",
   "execution_count": 12,
   "metadata": {},
   "outputs": [],
   "source": [
    "nx.write_gml(g, \"test.gml\")"
   ]
  },
  {
   "cell_type": "code",
   "execution_count": 13,
   "metadata": {},
   "outputs": [
    {
     "name": "stderr",
     "output_type": "stream",
     "text": [
      "C:\\Users\\LiuSeeker\\Desktop\\6o-semestre\\redes-sociais\\redes-projeto1\\spotify\\freeman\\__init__.py:68: UserWarning:\n",
      "\n",
      "node pos is not allowed in file, ignoring\n",
      "\n"
     ]
    }
   ],
   "source": [
    "g = fm.load('test.gml')"
   ]
  },
  {
   "cell_type": "code",
   "execution_count": 14,
   "metadata": {},
   "outputs": [
    {
     "data": {
      "text/html": [
       "\n",
       "        <iframe\n",
       "            width=\"810\"\n",
       "            height=\"460\"\n",
       "            src=\"__fmcache__\\2037660864904.html\"\n",
       "            frameborder=\"0\"\n",
       "            allowfullscreen\n",
       "        ></iframe>\n",
       "        "
      ],
      "text/plain": [
       "<IPython.lib.display.IFrame at 0x1da7051fd68>"
      ]
     },
     "metadata": {},
     "output_type": "display_data"
    }
   ],
   "source": [
    "g.set_all_nodes('labpos', 'hover')\n",
    "g.move('kamada_kawai')\n",
    "g.interact()"
   ]
  },
  {
   "cell_type": "code",
   "execution_count": null,
   "metadata": {},
   "outputs": [],
   "source": []
  }
 ],
 "metadata": {
  "kernelspec": {
   "display_name": "Python 3",
   "language": "python",
   "name": "python3"
  },
  "language_info": {
   "codemirror_mode": {
    "name": "ipython",
    "version": 3
   },
   "file_extension": ".py",
   "mimetype": "text/x-python",
   "name": "python",
   "nbconvert_exporter": "python",
   "pygments_lexer": "ipython3",
   "version": "3.7.3"
  }
 },
 "nbformat": 4,
 "nbformat_minor": 2
}
