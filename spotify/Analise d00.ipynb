{
 "cells": [
  {
   "cell_type": "code",
   "execution_count": 16,
   "metadata": {},
   "outputs": [],
   "source": [
    "import networkx as nx\n",
    "import freeman as fm\n",
    "import matplotlib.pyplot as plt\n",
    "from pprint import pprint\n",
    "import pymysql\n",
    "import sys\n",
    "from collections import defaultdict, OrderedDict\n",
    "import graph_tool as gt\n",
    "from graph_tool import centrality, draw\n",
    "import pandas as pd\n",
    "import statsmodels.api as sm\n",
    "import statsmodels\n",
    "import math\n",
    "import numpy as np\n",
    "\n",
    "import pickle\n",
    "\n",
    "from setup import mysql_setup"
   ]
  },
  {
   "cell_type": "markdown",
   "metadata": {},
   "source": [
    "# Decada 00"
   ]
  },
  {
   "cell_type": "code",
   "execution_count": 4,
   "metadata": {},
   "outputs": [],
   "source": [
    "\n",
    "with open(\"listas.pickle\", \"rb\") as fp:\n",
    "    list_60, list_70, list_80, list_90, list_00, list_10 = pickle.load(fp)\n",
    "with open(\"infos.pickle\", \"rb\") as fp:\n",
    "    d = pickle.load(fp)\n",
    "with open(\"infos2.pickle\", \"rb\") as fp:\n",
    "    d_60, d_70, d_80, d_90, d_00 = pickle.load(fp)\n",
    "with open(\"d_00_1_listas.pickle\", \"rb\") as fp:\n",
    "    lista_l, lista_p, lista_d, lista_b, lista_c = pickle.load(fp)"
   ]
  },
  {
   "cell_type": "code",
   "execution_count": 5,
   "metadata": {},
   "outputs": [],
   "source": [
    "for i in range(len(lista_c)):\n",
    "    if math.isnan(lista_c[i]):\n",
    "        lista_c[i] = 0"
   ]
  },
  {
   "cell_type": "markdown",
   "metadata": {},
   "source": [
    "## Popularity x Degree"
   ]
  },
  {
   "cell_type": "code",
   "execution_count": 6,
   "metadata": {},
   "outputs": [
    {
     "data": {
      "image/png": "[encoded data removed]",
      "text/plain": [
       "<Figure size 432x288 with 1 Axes>"
      ]
     },
     "metadata": {
      "needs_background": "light"
     },
     "output_type": "display_data"
    }
   ],
   "source": [
    "plt.scatter(lista_d, lista_p)\n",
    "plt.show()"
   ]
  },
  {
   "cell_type": "code",
   "execution_count": 7,
   "metadata": {},
   "outputs": [
    {
     "name": "stdout",
     "output_type": "stream",
     "text": [
      "                                 OLS Regression Results                                \n",
      "=======================================================================================\n",
      "Dep. Variable:                      y   R-squared (uncentered):                   0.342\n",
      "Model:                            OLS   Adj. R-squared (uncentered):              0.342\n",
      "Method:                 Least Squares   F-statistic:                              2086.\n",
      "Date:                Thu, 28 Nov 2019   Prob (F-statistic):                        0.00\n",
      "Time:                        14:46:49   Log-Likelihood:                         -21583.\n",
      "No. Observations:                4018   AIC:                                  4.317e+04\n",
      "Df Residuals:                    4017   BIC:                                  4.317e+04\n",
      "Df Model:                           1                                                  \n",
      "Covariance Type:            nonrobust                                                  \n",
      "==============================================================================\n",
      "                 coef    std err          t      P>|t|      [0.025      0.975]\n",
      "------------------------------------------------------------------------------\n",
      "x1             0.0060      0.000     45.675      0.000       0.006       0.006\n",
      "==============================================================================\n",
      "Omnibus:                     1299.365   Durbin-Watson:                   0.645\n",
      "Prob(Omnibus):                  0.000   Jarque-Bera (JB):             3337.893\n",
      "Skew:                          -1.781   Prob(JB):                         0.00\n",
      "Kurtosis:                       5.692   Cond. No.                         1.00\n",
      "==============================================================================\n",
      "\n",
      "Warnings:\n",
      "[1] Standard Errors assume that the covariance matrix of the errors is correctly specified.\n"
     ]
    }
   ],
   "source": [
    "model_d = sm.OLS(lista_p, lista_d)\n",
    "results_d = model_d.fit()\n",
    "print(results_d.summary())"
   ]
  },
  {
   "cell_type": "markdown",
   "metadata": {},
   "source": [
    "## Popularity x Betweenness"
   ]
  },
  {
   "cell_type": "code",
   "execution_count": 8,
   "metadata": {},
   "outputs": [
    {
     "data": {
      "image/png": "[encoded data removed]",
      "text/plain": [
       "<Figure size 432x288 with 1 Axes>"
      ]
     },
     "metadata": {
      "needs_background": "light"
     },
     "output_type": "display_data"
    }
   ],
   "source": [
    "plt.scatter(lista_b, lista_p)\n",
    "plt.show()"
   ]
  },
  {
   "cell_type": "code",
   "execution_count": 13,
   "metadata": {},
   "outputs": [
    {
     "name": "stdout",
     "output_type": "stream",
     "text": [
      "                                 OLS Regression Results                                \n",
      "=======================================================================================\n",
      "Dep. Variable:                      y   R-squared (uncentered):                   0.141\n",
      "Model:                            OLS   Adj. R-squared (uncentered):              0.140\n",
      "Method:                 Least Squares   F-statistic:                              657.7\n",
      "Date:                Thu, 28 Nov 2019   Prob (F-statistic):                   1.79e-134\n",
      "Time:                        14:50:20   Log-Likelihood:                         -22119.\n",
      "No. Observations:                4018   AIC:                                  4.424e+04\n",
      "Df Residuals:                    4017   BIC:                                  4.425e+04\n",
      "Df Model:                           1                                                  \n",
      "Covariance Type:            nonrobust                                                  \n",
      "==============================================================================\n",
      "                 coef    std err          t      P>|t|      [0.025      0.975]\n",
      "------------------------------------------------------------------------------\n",
      "x1          2.269e+04    884.576     25.647      0.000     2.1e+04    2.44e+04\n",
      "==============================================================================\n",
      "Omnibus:                     6950.252   Durbin-Watson:                   0.253\n",
      "Prob(Omnibus):                  0.000   Jarque-Bera (JB):          8419752.080\n",
      "Skew:                         -11.896   Prob(JB):                         0.00\n",
      "Kurtosis:                     225.994   Cond. No.                         1.00\n",
      "==============================================================================\n",
      "\n",
      "Warnings:\n",
      "[1] Standard Errors assume that the covariance matrix of the errors is correctly specified.\n"
     ]
    }
   ],
   "source": [
    "model_b = sm.OLS(lista_p, lista_b)\n",
    "results_b = model_b.fit()\n",
    "print(results_b.summary())"
   ]
  },
  {
   "cell_type": "code",
   "execution_count": 31,
   "metadata": {},
   "outputs": [
    {
     "name": "stderr",
     "output_type": "stream",
     "text": [
      "/home/liu/.local/lib/python3.6/site-packages/ipykernel_launcher.py:1: RuntimeWarning:\n",
      "\n",
      "divide by zero encountered in log\n",
      "\n"
     ]
    },
    {
     "data": {
      "image/png": "[encoded data removed]",
      "text/plain": [
       "<Figure size 432x288 with 1 Axes>"
      ]
     },
     "metadata": {
      "needs_background": "light"
     },
     "output_type": "display_data"
    }
   ],
   "source": [
    "lista_b_log = np.log(lista_b)\n",
    "lista_del = [0]\n",
    "for i in range(len(lista_b_log)):\n",
    "    if math.isnan(lista_b_log[i]) or math.isinf(lista_b_log[i]) :\n",
    "        lista_del.append(i)\n",
    "        \n",
    "for j in reversed(lista_del):\n",
    "    lista_b_log = np.delete(lista_b_log, j)\n",
    "    lista_p = np.delete(lista_p, j)\n",
    "\n",
    "plt.scatter(lista_b_log, lista_p)\n",
    "plt.show()"
   ]
  },
  {
   "cell_type": "code",
   "execution_count": 32,
   "metadata": {},
   "outputs": [
    {
     "name": "stdout",
     "output_type": "stream",
     "text": [
      "                                 OLS Regression Results                                \n",
      "=======================================================================================\n",
      "Dep. Variable:                      y   R-squared (uncentered):                   0.895\n",
      "Model:                            OLS   Adj. R-squared (uncentered):              0.895\n",
      "Method:                 Least Squares   F-statistic:                          3.320e+04\n",
      "Date:                Thu, 28 Nov 2019   Prob (F-statistic):                        0.00\n",
      "Time:                        15:32:54   Log-Likelihood:                         -17432.\n",
      "No. Observations:                3912   AIC:                                  3.487e+04\n",
      "Df Residuals:                    3911   BIC:                                  3.487e+04\n",
      "Df Model:                           1                                                  \n",
      "Covariance Type:            nonrobust                                                  \n",
      "==============================================================================\n",
      "                 coef    std err          t      P>|t|      [0.025      0.975]\n",
      "------------------------------------------------------------------------------\n",
      "x1            -5.6372      0.031   -182.196      0.000      -5.698      -5.577\n",
      "==============================================================================\n",
      "Omnibus:                       96.725   Durbin-Watson:                   1.898\n",
      "Prob(Omnibus):                  0.000   Jarque-Bera (JB):               64.274\n",
      "Skew:                          -0.191   Prob(JB):                     1.10e-14\n",
      "Kurtosis:                       2.502   Cond. No.                         1.00\n",
      "==============================================================================\n",
      "\n",
      "Warnings:\n",
      "[1] Standard Errors assume that the covariance matrix of the errors is correctly specified.\n"
     ]
    }
   ],
   "source": [
    "model_b = sm.OLS(lista_p, lista_b_log)\n",
    "results_b = model_b.fit()\n",
    "print(results_b.summary())"
   ]
  },
  {
   "cell_type": "markdown",
   "metadata": {},
   "source": [
    "## Popularity x Closeness"
   ]
  },
  {
   "cell_type": "code",
   "execution_count": 10,
   "metadata": {},
   "outputs": [
    {
     "data": {
      "image/png": "[encoded data removed]",
      "text/plain": [
       "<Figure size 432x288 with 1 Axes>"
      ]
     },
     "metadata": {
      "needs_background": "light"
     },
     "output_type": "display_data"
    }
   ],
   "source": [
    "plt.scatter(lista_c, lista_p)\n",
    "plt.show()"
   ]
  },
  {
   "cell_type": "code",
   "execution_count": 11,
   "metadata": {},
   "outputs": [
    {
     "name": "stdout",
     "output_type": "stream",
     "text": [
      "                                 OLS Regression Results                                \n",
      "=======================================================================================\n",
      "Dep. Variable:                      y   R-squared (uncentered):                   0.977\n",
      "Model:                            OLS   Adj. R-squared (uncentered):              0.977\n",
      "Method:                 Least Squares   F-statistic:                          1.727e+05\n",
      "Date:                Thu, 28 Nov 2019   Prob (F-statistic):                        0.00\n",
      "Time:                        14:46:50   Log-Likelihood:                         -14821.\n",
      "No. Observations:                4018   AIC:                                  2.964e+04\n",
      "Df Residuals:                    4017   BIC:                                  2.965e+04\n",
      "Df Model:                           1                                                  \n",
      "Covariance Type:            nonrobust                                                  \n",
      "==============================================================================\n",
      "                 coef    std err          t      P>|t|      [0.025      0.975]\n",
      "------------------------------------------------------------------------------\n",
      "x1           152.6669      0.367    415.601      0.000     151.947     153.387\n",
      "==============================================================================\n",
      "Omnibus:                     1471.454   Durbin-Watson:                   2.013\n",
      "Prob(Omnibus):                  0.000   Jarque-Bera (JB):            50159.836\n",
      "Skew:                          -1.088   Prob(JB):                         0.00\n",
      "Kurtosis:                      20.172   Cond. No.                         1.00\n",
      "==============================================================================\n",
      "\n",
      "Warnings:\n",
      "[1] Standard Errors assume that the covariance matrix of the errors is correctly specified.\n"
     ]
    }
   ],
   "source": [
    "model_c = sm.OLS(lista_p, lista_c)\n",
    "results_c = model_c.fit()\n",
    "print(results_c.summary())"
   ]
  },
  {
   "cell_type": "code",
   "execution_count": null,
   "metadata": {},
   "outputs": [],
   "source": []
  },
  {
   "cell_type": "code",
   "execution_count": null,
   "metadata": {},
   "outputs": [],
   "source": []
  },
  {
   "cell_type": "code",
   "execution_count": null,
   "metadata": {},
   "outputs": [],
   "source": []
  },
  {
   "cell_type": "code",
   "execution_count": null,
   "metadata": {},
   "outputs": [],
   "source": []
  },
  {
   "cell_type": "code",
   "execution_count": null,
   "metadata": {},
   "outputs": [],
   "source": []
  }
 ],
 "metadata": {
  "kernelspec": {
   "display_name": "Python 3",
   "language": "python",
   "name": "python3"
  },
  "language_info": {
   "codemirror_mode": {
    "name": "ipython",
    "version": 3
   },
   "file_extension": ".py",
   "mimetype": "text/x-python",
   "name": "python",
   "nbconvert_exporter": "python",
   "pygments_lexer": "ipython3",
   "version": "3.6.8"
  }
 },
 "nbformat": 4,
 "nbformat_minor": 2
}
