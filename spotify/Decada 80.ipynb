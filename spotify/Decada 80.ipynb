{
 "cells": [
  {
   "cell_type": "code",
   "execution_count": 9,
   "metadata": {},
   "outputs": [],
   "source": [
    "import networkx as nx\n",
    "import freeman as fm\n",
    "import matplotlib.pyplot as plt\n",
    "from pprint import pprint\n",
    "import pymysql\n",
    "import sys\n",
    "from collections import defaultdict\n",
    "\n",
    "from setup import mysql_setup\n",
    "conn = mysql_setup()\n",
    "\n",
    "def get_infos(dates):\n",
    "    with conn.cursor() as cursor:\n",
    "        try:\n",
    "            cursor.execute('''\n",
    "                SELECT\n",
    "                    t.track_name, pl.playlist_name\n",
    "                FROM\n",
    "                    Track t \n",
    "                    INNER JOIN Album_Track altr USING (id_track)\n",
    "                    INNER JOIN Album al USING (id_album)\n",
    "                    INNER JOIN Playlist_Track pltr USING (id_track)\n",
    "                    INNER JOIN Playlist pl USING (id_playlist)\n",
    "                WHERE\n",
    "                    al.release_date >= %s and al.release_date <= %s\n",
    "                ''', (dates[0], dates[1]))\n",
    "            ret = cursor.fetchall()\n",
    "        except pymysql.err.IntegrityError as e:\n",
    "            print(\"Erro: não foi possivel dar select em playlist\")\n",
    "            return None\n",
    "    return ret\n",
    "\n",
    "def faz_grafo(dic, ligacoes):\n",
    "    \n",
    "    g = nx.Graph()\n",
    "    \n",
    "    for ent in dic:\n",
    "        g.add_node(ent)\n",
    "        \n",
    "    keys = list(dic.keys())\n",
    "        \n",
    "    for i in range(len(dic)-1): #musicas\n",
    "        for pl1 in dic[keys[i]]: #playlists\n",
    "            for j in range(len(dic)-1-i): #musicas\n",
    "                count = 0\n",
    "                for pl2 in dic[keys[j+1+i]]: #playlists\n",
    "                    if pl1 == pl2:\n",
    "                        count += 1\n",
    "                if count >= ligacoes:\n",
    "                    g.add_edge(keys[i], keys[j+1+i])\n",
    "    \n",
    "    nodes_to_remove = []\n",
    "    \n",
    "    for node in g.nodes:\n",
    "        if len(g.edges(node)) < 1:\n",
    "            nodes_to_remove.append(node)\n",
    "            \n",
    "    for node in nodes_to_remove:\n",
    "        g.remove_node(node)\n",
    "    \n",
    "    return g"
   ]
  },
  {
   "cell_type": "code",
   "execution_count": 10,
   "metadata": {},
   "outputs": [],
   "source": [
    "infos = get_infos(['1980-01-01', '1989-12-31'])\n",
    "d = defaultdict(list)\n",
    "for info in infos:\n",
    "    d[info[0]].append(info[1])"
   ]
  },
  {
   "cell_type": "code",
   "execution_count": 11,
   "metadata": {},
   "outputs": [],
   "source": [
    "g = faz_grafo(d, 2)"
   ]
  },
  {
   "cell_type": "code",
   "execution_count": 12,
   "metadata": {},
   "outputs": [],
   "source": [
    "nx.write_gml(g, \"decada80.gml\")\n",
    "g = fm.load('decada80.gml')"
   ]
  },
  {
   "cell_type": "code",
   "execution_count": 13,
   "metadata": {},
   "outputs": [
    {
     "data": {
      "application/vnd.plotly.v1+json": {
       "config": {
        "displayModeBar": false,
        "linkText": "Export to plot.ly",
        "plotlyServerURL": "https://plot.ly",
        "showLink": false
       },
       "data": [
        {
         "hoverinfo": "none",
         "line": {
          "color": "rgb(0, 0, 0)",
          "dash": "solid",
          "width": 1
         },
         "mode": "lines",
         "type": "scatter",
         "x": [
          0.8969272479229876,
          0.7030621177899727,
          null,
          0.9671205610838297,
          0.7030621177899727,
          null,
          0.5859328538971601,
          0.6959321503799571,
          null,
          0.9603033844902715,
          0.6959321503799571,
          null,
          0.541539767777948,
          0.6959321503799571,
          null,
          0.4513743135793827,
          0.2972484491197542,
          null,
          0.4513743135793827,
          0.7030621177899727,
          null,
          0.5265982309100953,
          0.2972484491197542,
          null,
          1,
          0.7030621177899727,
          null,
          0.8384134868355274,
          0.7030621177899727,
          null,
          0.10703803084939298,
          0.2972484491197542,
          null,
          0.016638876749513993,
          0.2972484491197542,
          null,
          0,
          0.2972484491197542,
          null,
          0.4632031655823174,
          0.7030621177899727,
          null,
          0.5420145290189367,
          0.2972484491197542,
          null,
          0.5420145290189367,
          0.7030621177899727,
          null,
          0.49127757609071715,
          0.7030621177899727,
          null,
          0.08079590991010765,
          0.2972484491197542,
          null,
          0.6284531747732923,
          0.7030621177899727,
          null,
          0.7706558708114379,
          0.7030621177899727,
          null,
          0.981961543078144,
          0.7030621177899727,
          null,
          0.2549707151614372,
          0.2972484491197542,
          null,
          0.41449715996846337,
          0.2972484491197542,
          null
         ],
         "y": [
          0.07591172307437734,
          0.2840430477449322,
          null,
          0.46679935308498577,
          0.2840430477449322,
          null,
          0.46463476837888196,
          0.7004422337070387,
          null,
          0.7254190914051981,
          0.7004422337070387,
          null,
          0.911248952764884,
          0.7004422337070387,
          null,
          0.4654433099464003,
          0.719753511667191,
          null,
          0.4654433099464003,
          0.2840430477449322,
          null,
          0.9103095895962737,
          0.719753511667191,
          null,
          0.3292976695467356,
          0.2840430477449322,
          null,
          0.5064006640943203,
          0.2840430477449322,
          null,
          0.9240027136019999,
          0.719753511667191,
          null,
          0.7875308468357297,
          0.719753511667191,
          null,
          0.6327840211798781,
          0.719753511667191,
          null,
          0.17392603552532007,
          0.2840430477449322,
          null,
          0.5457561517947144,
          0.719753511667191,
          null,
          0.5457561517947144,
          0.2840430477449322,
          null,
          0.045188002972003934,
          0.2840430477449322,
          null,
          0.5153267538965299,
          0.719753511667191,
          null,
          0,
          0.2840430477449322,
          null,
          0.004470184941399109,
          0.2840430477449322,
          null,
          0.1916672663906751,
          0.2840430477449322,
          null,
          0.9986950774308483,
          0.719753511667191,
          null,
          1,
          0.719753511667191,
          null
         ]
        },
        {
         "hoverinfo": "text",
         "marker": {
          "color": "rgb(255, 255, 255)",
          "line": {
           "color": "rgb(0, 0, 0)",
           "width": 1
          },
          "size": 20,
          "symbol": "circle"
         },
         "mode": "markers",
         "text": [
          "Hungry Eyes",
          "(I've Had) The Time of My Life",
          "The Other Side of Paradise",
          "Bring The Hoodoo Down",
          "Poison Pen",
          "In The Wild",
          "We Built This City",
          "Dancing In the Dark",
          "Don't Dream It's Over",
          "Billie Jean",
          "Run To You",
          "Big in Japan",
          "More Than This - Remastered",
          "Everybody Wants To Rule The World",
          "Don't Stop Believin'",
          "Centerfold",
          "Little Lies - 2017 Remaster",
          "Caught Up In You",
          "Invisible Touch - Remastered",
          "Your Love",
          "Never Tear Us Apart",
          "I Wanna Dance with Somebody (Who Loves Me)",
          "Africa",
          "Call Me"
         ],
         "textfont": {
          "color": "rgb(0, 0, 0)"
         },
         "textposition": "middle center",
         "type": "scatter",
         "x": [
          0.8969272479229876,
          0.9671205610838297,
          0.5859328538971601,
          0.9603033844902715,
          0.541539767777948,
          0.6959321503799571,
          0.4513743135793827,
          0.5265982309100953,
          1,
          0.8384134868355274,
          0.10703803084939298,
          0.016638876749513993,
          0,
          0.4632031655823174,
          0.5420145290189367,
          0.49127757609071715,
          0.08079590991010765,
          0.6284531747732923,
          0.7706558708114379,
          0.981961543078144,
          0.2549707151614372,
          0.41449715996846337,
          0.7030621177899727,
          0.2972484491197542
         ],
         "y": [
          0.07591172307437734,
          0.46679935308498577,
          0.46463476837888196,
          0.7254190914051981,
          0.911248952764884,
          0.7004422337070387,
          0.4654433099464003,
          0.9103095895962737,
          0.3292976695467356,
          0.5064006640943203,
          0.9240027136019999,
          0.7875308468357297,
          0.6327840211798781,
          0.17392603552532007,
          0.5457561517947144,
          0.045188002972003934,
          0.5153267538965299,
          0,
          0.004470184941399109,
          0.1916672663906751,
          0.9986950774308483,
          1,
          0.2840430477449322,
          0.719753511667191
         ]
        },
        {
         "hoverinfo": "none",
         "mode": "text",
         "text": [
          null,
          null,
          null,
          null,
          null,
          null,
          null,
          null,
          null,
          null,
          null,
          null,
          null,
          null,
          null,
          null,
          null,
          null,
          null,
          null,
          null,
          null,
          null
         ],
         "textfont": {
          "color": "rgb(0, 0, 0)"
         },
         "textposition": "middle center",
         "type": "scatter",
         "x": [
          0.7927148651456144,
          0.8401817513824857,
          0.6299967151440073,
          0.8288598463030744,
          0.6273377561376925,
          0.36468073817642355,
          0.5824913252508798,
          0.4178717677479071,
          0.8527255905457757,
          0.7803452383026848,
          0.20942415811880905,
          0.1588269871867087,
          0.14635198692907342,
          0.5796307228560501,
          0.41442099393808557,
          0.6320879487294916,
          0.5896219833343029,
          0.1824237031232193,
          0.6528038898591414,
          0.7237160098120983,
          0.8399485664792954,
          0.28995645136329296,
          0.36728834054112486
         ],
         "y": [
          0.1573491188993722,
          0.35087698543231305,
          0.599562082292021,
          0.6867189744784168,
          0.8268688086456202,
          0.5731208054126883,
          0.39915833940261775,
          0.7911398951599289,
          0.2805145075469376,
          0.375706041906146,
          0.8445051976231477,
          0.7796624385008002,
          0.7021851827226736,
          0.25443971834635504,
          0.6082948518180257,
          0.4345098718332456,
          0.1869488002065781,
          0.6408552250897722,
          0.15337610134419222,
          0.13365251010431375,
          0.21202950161095535,
          0.8662278502257881,
          0.8439387958252247
         ]
        },
        {
         "hoverinfo": "none",
         "marker": {
          "color": "rgba(255, 255, 255, 0)",
          "line": {
           "color": "rgba(255, 255, 255, 0)",
           "width": 0
          },
          "size": 0,
          "symbol": "circle"
         },
         "mode": "markers",
         "type": "scatter",
         "x": [
          0.5,
          0,
          1,
          0.5
         ],
         "y": [
          0,
          0.5,
          0.5,
          1
         ]
        },
        {
         "hoverinfo": "none",
         "mode": "text",
         "text": [],
         "textfont": {
          "color": "rgb(255, 255, 255)"
         },
         "textposition": "middle center",
         "type": "scatter",
         "x": [],
         "y": []
        },
        {
         "hoverinfo": "none",
         "mode": "text",
         "text": [
          null,
          null,
          null,
          null,
          null,
          null,
          null,
          null,
          null,
          null,
          null,
          null,
          null,
          null,
          null,
          null,
          null,
          null,
          null,
          null,
          null,
          null,
          null,
          null
         ],
         "textfont": {
          "color": "rgb(0, 0, 0)"
         },
         "textposition": "middle center",
         "type": "scatter",
         "x": [
          0.8969272479229876,
          0.9671205610838297,
          0.5859328538971601,
          0.9603033844902715,
          0.541539767777948,
          0.6959321503799571,
          0.4513743135793827,
          0.5265982309100953,
          1,
          0.8384134868355274,
          0.10703803084939298,
          0.016638876749513993,
          0,
          0.4632031655823174,
          0.5420145290189367,
          0.49127757609071715,
          0.08079590991010765,
          0.6284531747732923,
          0.7706558708114379,
          0.981961543078144,
          0.2549707151614372,
          0.41449715996846337,
          0.7030621177899727,
          0.2972484491197542
         ],
         "y": [
          0.07591172307437734,
          0.46679935308498577,
          0.46463476837888196,
          0.7254190914051981,
          0.911248952764884,
          0.7004422337070387,
          0.4654433099464003,
          0.9103095895962737,
          0.3292976695467356,
          0.5064006640943203,
          0.9240027136019999,
          0.7875308468357297,
          0.6327840211798781,
          0.17392603552532007,
          0.5457561517947144,
          0.045188002972003934,
          0.5153267538965299,
          0,
          0.004470184941399109,
          0.1916672663906751,
          0.9986950774308483,
          1,
          0.2840430477449322,
          0.719753511667191
         ]
        }
       ],
       "layout": {
        "height": 450,
        "margin": {
         "b": 0,
         "l": 0,
         "r": 0,
         "t": 0
        },
        "plot_bgcolor": "rgb(255, 255, 255)",
        "showlegend": false,
        "template": {
         "data": {
          "bar": [
           {
            "error_x": {
             "color": "#2a3f5f"
            },
            "error_y": {
             "color": "#2a3f5f"
            },
            "marker": {
             "line": {
              "color": "#E5ECF6",
              "width": 0.5
             }
            },
            "type": "bar"
           }
          ],
          "barpolar": [
           {
            "marker": {
             "line": {
              "color": "#E5ECF6",
              "width": 0.5
             }
            },
            "type": "barpolar"
           }
          ],
          "carpet": [
           {
            "aaxis": {
             "endlinecolor": "#2a3f5f",
             "gridcolor": "white",
             "linecolor": "white",
             "minorgridcolor": "white",
             "startlinecolor": "#2a3f5f"
            },
            "baxis": {
             "endlinecolor": "#2a3f5f",
             "gridcolor": "white",
             "linecolor": "white",
             "minorgridcolor": "white",
             "startlinecolor": "#2a3f5f"
            },
            "type": "carpet"
           }
          ],
          "choropleth": [
           {
            "colorbar": {
             "outlinewidth": 0,
             "ticks": ""
            },
            "type": "choropleth"
           }
          ],
          "contour": [
           {
            "colorbar": {
             "outlinewidth": 0,
             "ticks": ""
            },
            "colorscale": [
             [
              0,
              "#0d0887"
             ],
             [
              0.1111111111111111,
              "#46039f"
             ],
             [
              0.2222222222222222,
              "#7201a8"
             ],
             [
              0.3333333333333333,
              "#9c179e"
             ],
             [
              0.4444444444444444,
              "#bd3786"
             ],
             [
              0.5555555555555556,
              "#d8576b"
             ],
             [
              0.6666666666666666,
              "#ed7953"
             ],
             [
              0.7777777777777778,
              "#fb9f3a"
             ],
             [
              0.8888888888888888,
              "#fdca26"
             ],
             [
              1,
              "#f0f921"
             ]
            ],
            "type": "contour"
           }
          ],
          "contourcarpet": [
           {
            "colorbar": {
             "outlinewidth": 0,
             "ticks": ""
            },
            "type": "contourcarpet"
           }
          ],
          "heatmap": [
           {
            "colorbar": {
             "outlinewidth": 0,
             "ticks": ""
            },
            "colorscale": [
             [
              0,
              "#0d0887"
             ],
             [
              0.1111111111111111,
              "#46039f"
             ],
             [
              0.2222222222222222,
              "#7201a8"
             ],
             [
              0.3333333333333333,
              "#9c179e"
             ],
             [
              0.4444444444444444,
              "#bd3786"
             ],
             [
              0.5555555555555556,
              "#d8576b"
             ],
             [
              0.6666666666666666,
              "#ed7953"
             ],
             [
              0.7777777777777778,
              "#fb9f3a"
             ],
             [
              0.8888888888888888,
              "#fdca26"
             ],
             [
              1,
              "#f0f921"
             ]
            ],
            "type": "heatmap"
           }
          ],
          "heatmapgl": [
           {
            "colorbar": {
             "outlinewidth": 0,
             "ticks": ""
            },
            "colorscale": [
             [
              0,
              "#0d0887"
             ],
             [
              0.1111111111111111,
              "#46039f"
             ],
             [
              0.2222222222222222,
              "#7201a8"
             ],
             [
              0.3333333333333333,
              "#9c179e"
             ],
             [
              0.4444444444444444,
              "#bd3786"
             ],
             [
              0.5555555555555556,
              "#d8576b"
             ],
             [
              0.6666666666666666,
              "#ed7953"
             ],
             [
              0.7777777777777778,
              "#fb9f3a"
             ],
             [
              0.8888888888888888,
              "#fdca26"
             ],
             [
              1,
              "#f0f921"
             ]
            ],
            "type": "heatmapgl"
           }
          ],
          "histogram": [
           {
            "marker": {
             "colorbar": {
              "outlinewidth": 0,
              "ticks": ""
             }
            },
            "type": "histogram"
           }
          ],
          "histogram2d": [
           {
            "colorbar": {
             "outlinewidth": 0,
             "ticks": ""
            },
            "colorscale": [
             [
              0,
              "#0d0887"
             ],
             [
              0.1111111111111111,
              "#46039f"
             ],
             [
              0.2222222222222222,
              "#7201a8"
             ],
             [
              0.3333333333333333,
              "#9c179e"
             ],
             [
              0.4444444444444444,
              "#bd3786"
             ],
             [
              0.5555555555555556,
              "#d8576b"
             ],
             [
              0.6666666666666666,
              "#ed7953"
             ],
             [
              0.7777777777777778,
              "#fb9f3a"
             ],
             [
              0.8888888888888888,
              "#fdca26"
             ],
             [
              1,
              "#f0f921"
             ]
            ],
            "type": "histogram2d"
           }
          ],
          "histogram2dcontour": [
           {
            "colorbar": {
             "outlinewidth": 0,
             "ticks": ""
            },
            "colorscale": [
             [
              0,
              "#0d0887"
             ],
             [
              0.1111111111111111,
              "#46039f"
             ],
             [
              0.2222222222222222,
              "#7201a8"
             ],
             [
              0.3333333333333333,
              "#9c179e"
             ],
             [
              0.4444444444444444,
              "#bd3786"
             ],
             [
              0.5555555555555556,
              "#d8576b"
             ],
             [
              0.6666666666666666,
              "#ed7953"
             ],
             [
              0.7777777777777778,
              "#fb9f3a"
             ],
             [
              0.8888888888888888,
              "#fdca26"
             ],
             [
              1,
              "#f0f921"
             ]
            ],
            "type": "histogram2dcontour"
           }
          ],
          "mesh3d": [
           {
            "colorbar": {
             "outlinewidth": 0,
             "ticks": ""
            },
            "type": "mesh3d"
           }
          ],
          "parcoords": [
           {
            "line": {
             "colorbar": {
              "outlinewidth": 0,
              "ticks": ""
             }
            },
            "type": "parcoords"
           }
          ],
          "scatter": [
           {
            "marker": {
             "colorbar": {
              "outlinewidth": 0,
              "ticks": ""
             }
            },
            "type": "scatter"
           }
          ],
          "scatter3d": [
           {
            "line": {
             "colorbar": {
              "outlinewidth": 0,
              "ticks": ""
             }
            },
            "marker": {
             "colorbar": {
              "outlinewidth": 0,
              "ticks": ""
             }
            },
            "type": "scatter3d"
           }
          ],
          "scattercarpet": [
           {
            "marker": {
             "colorbar": {
              "outlinewidth": 0,
              "ticks": ""
             }
            },
            "type": "scattercarpet"
           }
          ],
          "scattergeo": [
           {
            "marker": {
             "colorbar": {
              "outlinewidth": 0,
              "ticks": ""
             }
            },
            "type": "scattergeo"
           }
          ],
          "scattergl": [
           {
            "marker": {
             "colorbar": {
              "outlinewidth": 0,
              "ticks": ""
             }
            },
            "type": "scattergl"
           }
          ],
          "scattermapbox": [
           {
            "marker": {
             "colorbar": {
              "outlinewidth": 0,
              "ticks": ""
             }
            },
            "type": "scattermapbox"
           }
          ],
          "scatterpolar": [
           {
            "marker": {
             "colorbar": {
              "outlinewidth": 0,
              "ticks": ""
             }
            },
            "type": "scatterpolar"
           }
          ],
          "scatterpolargl": [
           {
            "marker": {
             "colorbar": {
              "outlinewidth": 0,
              "ticks": ""
             }
            },
            "type": "scatterpolargl"
           }
          ],
          "scatterternary": [
           {
            "marker": {
             "colorbar": {
              "outlinewidth": 0,
              "ticks": ""
             }
            },
            "type": "scatterternary"
           }
          ],
          "surface": [
           {
            "colorbar": {
             "outlinewidth": 0,
             "ticks": ""
            },
            "colorscale": [
             [
              0,
              "#0d0887"
             ],
             [
              0.1111111111111111,
              "#46039f"
             ],
             [
              0.2222222222222222,
              "#7201a8"
             ],
             [
              0.3333333333333333,
              "#9c179e"
             ],
             [
              0.4444444444444444,
              "#bd3786"
             ],
             [
              0.5555555555555556,
              "#d8576b"
             ],
             [
              0.6666666666666666,
              "#ed7953"
             ],
             [
              0.7777777777777778,
              "#fb9f3a"
             ],
             [
              0.8888888888888888,
              "#fdca26"
             ],
             [
              1,
              "#f0f921"
             ]
            ],
            "type": "surface"
           }
          ],
          "table": [
           {
            "cells": {
             "fill": {
              "color": "#EBF0F8"
             },
             "line": {
              "color": "white"
             }
            },
            "header": {
             "fill": {
              "color": "#C8D4E3"
             },
             "line": {
              "color": "white"
             }
            },
            "type": "table"
           }
          ]
         },
         "layout": {
          "annotationdefaults": {
           "arrowcolor": "#2a3f5f",
           "arrowhead": 0,
           "arrowwidth": 1
          },
          "colorscale": {
           "diverging": [
            [
             0,
             "#8e0152"
            ],
            [
             0.1,
             "#c51b7d"
            ],
            [
             0.2,
             "#de77ae"
            ],
            [
             0.3,
             "#f1b6da"
            ],
            [
             0.4,
             "#fde0ef"
            ],
            [
             0.5,
             "#f7f7f7"
            ],
            [
             0.6,
             "#e6f5d0"
            ],
            [
             0.7,
             "#b8e186"
            ],
            [
             0.8,
             "#7fbc41"
            ],
            [
             0.9,
             "#4d9221"
            ],
            [
             1,
             "#276419"
            ]
           ],
           "sequential": [
            [
             0,
             "#0d0887"
            ],
            [
             0.1111111111111111,
             "#46039f"
            ],
            [
             0.2222222222222222,
             "#7201a8"
            ],
            [
             0.3333333333333333,
             "#9c179e"
            ],
            [
             0.4444444444444444,
             "#bd3786"
            ],
            [
             0.5555555555555556,
             "#d8576b"
            ],
            [
             0.6666666666666666,
             "#ed7953"
            ],
            [
             0.7777777777777778,
             "#fb9f3a"
            ],
            [
             0.8888888888888888,
             "#fdca26"
            ],
            [
             1,
             "#f0f921"
            ]
           ],
           "sequentialminus": [
            [
             0,
             "#0d0887"
            ],
            [
             0.1111111111111111,
             "#46039f"
            ],
            [
             0.2222222222222222,
             "#7201a8"
            ],
            [
             0.3333333333333333,
             "#9c179e"
            ],
            [
             0.4444444444444444,
             "#bd3786"
            ],
            [
             0.5555555555555556,
             "#d8576b"
            ],
            [
             0.6666666666666666,
             "#ed7953"
            ],
            [
             0.7777777777777778,
             "#fb9f3a"
            ],
            [
             0.8888888888888888,
             "#fdca26"
            ],
            [
             1,
             "#f0f921"
            ]
           ]
          },
          "colorway": [
           "#636efa",
           "#EF553B",
           "#00cc96",
           "#ab63fa",
           "#FFA15A",
           "#19d3f3",
           "#FF6692",
           "#B6E880",
           "#FF97FF",
           "#FECB52"
          ],
          "font": {
           "color": "#2a3f5f"
          },
          "geo": {
           "bgcolor": "white",
           "lakecolor": "white",
           "landcolor": "#E5ECF6",
           "showlakes": true,
           "showland": true,
           "subunitcolor": "white"
          },
          "hoverlabel": {
           "align": "left"
          },
          "hovermode": "closest",
          "mapbox": {
           "style": "light"
          },
          "paper_bgcolor": "white",
          "plot_bgcolor": "#E5ECF6",
          "polar": {
           "angularaxis": {
            "gridcolor": "white",
            "linecolor": "white",
            "ticks": ""
           },
           "bgcolor": "#E5ECF6",
           "radialaxis": {
            "gridcolor": "white",
            "linecolor": "white",
            "ticks": ""
           }
          },
          "scene": {
           "xaxis": {
            "backgroundcolor": "#E5ECF6",
            "gridcolor": "white",
            "gridwidth": 2,
            "linecolor": "white",
            "showbackground": true,
            "ticks": "",
            "zerolinecolor": "white"
           },
           "yaxis": {
            "backgroundcolor": "#E5ECF6",
            "gridcolor": "white",
            "gridwidth": 2,
            "linecolor": "white",
            "showbackground": true,
            "ticks": "",
            "zerolinecolor": "white"
           },
           "zaxis": {
            "backgroundcolor": "#E5ECF6",
            "gridcolor": "white",
            "gridwidth": 2,
            "linecolor": "white",
            "showbackground": true,
            "ticks": "",
            "zerolinecolor": "white"
           }
          },
          "shapedefaults": {
           "line": {
            "color": "#2a3f5f"
           }
          },
          "ternary": {
           "aaxis": {
            "gridcolor": "white",
            "linecolor": "white",
            "ticks": ""
           },
           "baxis": {
            "gridcolor": "white",
            "linecolor": "white",
            "ticks": ""
           },
           "bgcolor": "#E5ECF6",
           "caxis": {
            "gridcolor": "white",
            "linecolor": "white",
            "ticks": ""
           }
          },
          "title": {
           "x": 0.05
          },
          "xaxis": {
           "automargin": true,
           "gridcolor": "white",
           "linecolor": "white",
           "ticks": "",
           "zerolinecolor": "white",
           "zerolinewidth": 2
          },
          "yaxis": {
           "automargin": true,
           "gridcolor": "white",
           "linecolor": "white",
           "ticks": "",
           "zerolinecolor": "white",
           "zerolinewidth": 2
          }
         }
        },
        "width": 800,
        "xaxis": {
         "showgrid": false,
         "showticklabels": false,
         "zeroline": false
        },
        "yaxis": {
         "showgrid": false,
         "showticklabels": false,
         "zeroline": false
        }
       }
      },
      "text/html": [
       "<div>\n",
       "        \n",
       "        \n",
       "            <div id=\"8306bb2e-047e-42f1-9eef-b8d61d5a8699\" class=\"plotly-graph-div\" style=\"height:450px; width:800px;\"></div>\n",
       "            <script type=\"text/javascript\">\n",
       "                require([\"plotly\"], function(Plotly) {\n",
       "                    window.PLOTLYENV=window.PLOTLYENV || {};\n",
       "                    \n",
       "                if (document.getElementById(\"8306bb2e-047e-42f1-9eef-b8d61d5a8699\")) {\n",
       "                    Plotly.newPlot(\n",
       "                        '8306bb2e-047e-42f1-9eef-b8d61d5a8699',\n",
       "                        [{\"hoverinfo\": \"none\", \"line\": {\"color\": \"rgb(0, 0, 0)\", \"dash\": \"solid\", \"width\": 1}, \"mode\": \"lines\", \"type\": \"scatter\", \"x\": [0.8969272479229876, 0.7030621177899727, null, 0.9671205610838297, 0.7030621177899727, null, 0.5859328538971601, 0.6959321503799571, null, 0.9603033844902715, 0.6959321503799571, null, 0.541539767777948, 0.6959321503799571, null, 0.4513743135793827, 0.2972484491197542, null, 0.4513743135793827, 0.7030621177899727, null, 0.5265982309100953, 0.2972484491197542, null, 1.0, 0.7030621177899727, null, 0.8384134868355274, 0.7030621177899727, null, 0.10703803084939298, 0.2972484491197542, null, 0.016638876749513993, 0.2972484491197542, null, 0.0, 0.2972484491197542, null, 0.4632031655823174, 0.7030621177899727, null, 0.5420145290189367, 0.2972484491197542, null, 0.5420145290189367, 0.7030621177899727, null, 0.49127757609071715, 0.7030621177899727, null, 0.08079590991010765, 0.2972484491197542, null, 0.6284531747732923, 0.7030621177899727, null, 0.7706558708114379, 0.7030621177899727, null, 0.981961543078144, 0.7030621177899727, null, 0.2549707151614372, 0.2972484491197542, null, 0.41449715996846337, 0.2972484491197542, null], \"y\": [0.07591172307437734, 0.2840430477449322, null, 0.46679935308498577, 0.2840430477449322, null, 0.46463476837888196, 0.7004422337070387, null, 0.7254190914051981, 0.7004422337070387, null, 0.911248952764884, 0.7004422337070387, null, 0.4654433099464003, 0.719753511667191, null, 0.4654433099464003, 0.2840430477449322, null, 0.9103095895962737, 0.719753511667191, null, 0.3292976695467356, 0.2840430477449322, null, 0.5064006640943203, 0.2840430477449322, null, 0.9240027136019999, 0.719753511667191, null, 0.7875308468357297, 0.719753511667191, null, 0.6327840211798781, 0.719753511667191, null, 0.17392603552532007, 0.2840430477449322, null, 0.5457561517947144, 0.719753511667191, null, 0.5457561517947144, 0.2840430477449322, null, 0.045188002972003934, 0.2840430477449322, null, 0.5153267538965299, 0.719753511667191, null, 0.0, 0.2840430477449322, null, 0.004470184941399109, 0.2840430477449322, null, 0.1916672663906751, 0.2840430477449322, null, 0.9986950774308483, 0.719753511667191, null, 1.0, 0.719753511667191, null]}, {\"hoverinfo\": \"text\", \"marker\": {\"color\": \"rgb(255, 255, 255)\", \"line\": {\"color\": \"rgb(0, 0, 0)\", \"width\": 1}, \"size\": 20, \"symbol\": \"circle\"}, \"mode\": \"markers\", \"text\": [\"Hungry Eyes\", \"(I've Had) The Time of My Life\", \"The Other Side of Paradise\", \"Bring The Hoodoo Down\", \"Poison Pen\", \"In The Wild\", \"We Built This City\", \"Dancing In the Dark\", \"Don't Dream It's Over\", \"Billie Jean\", \"Run To You\", \"Big in Japan\", \"More Than This - Remastered\", \"Everybody Wants To Rule The World\", \"Don't Stop Believin'\", \"Centerfold\", \"Little Lies - 2017 Remaster\", \"Caught Up In You\", \"Invisible Touch - Remastered\", \"Your Love\", \"Never Tear Us Apart\", \"I Wanna Dance with Somebody (Who Loves Me)\", \"Africa\", \"Call Me\"], \"textfont\": {\"color\": \"rgb(0, 0, 0)\"}, \"textposition\": \"middle center\", \"type\": \"scatter\", \"x\": [0.8969272479229876, 0.9671205610838297, 0.5859328538971601, 0.9603033844902715, 0.541539767777948, 0.6959321503799571, 0.4513743135793827, 0.5265982309100953, 1.0, 0.8384134868355274, 0.10703803084939298, 0.016638876749513993, 0.0, 0.4632031655823174, 0.5420145290189367, 0.49127757609071715, 0.08079590991010765, 0.6284531747732923, 0.7706558708114379, 0.981961543078144, 0.2549707151614372, 0.41449715996846337, 0.7030621177899727, 0.2972484491197542], \"y\": [0.07591172307437734, 0.46679935308498577, 0.46463476837888196, 0.7254190914051981, 0.911248952764884, 0.7004422337070387, 0.4654433099464003, 0.9103095895962737, 0.3292976695467356, 0.5064006640943203, 0.9240027136019999, 0.7875308468357297, 0.6327840211798781, 0.17392603552532007, 0.5457561517947144, 0.045188002972003934, 0.5153267538965299, 0.0, 0.004470184941399109, 0.1916672663906751, 0.9986950774308483, 1.0, 0.2840430477449322, 0.719753511667191]}, {\"hoverinfo\": \"none\", \"mode\": \"text\", \"text\": [null, null, null, null, null, null, null, null, null, null, null, null, null, null, null, null, null, null, null, null, null, null, null], \"textfont\": {\"color\": \"rgb(0, 0, 0)\"}, \"textposition\": \"middle center\", \"type\": \"scatter\", \"x\": [0.7927148651456144, 0.8401817513824857, 0.6299967151440073, 0.8288598463030744, 0.6273377561376925, 0.36468073817642355, 0.5824913252508798, 0.4178717677479071, 0.8527255905457757, 0.7803452383026848, 0.20942415811880905, 0.1588269871867087, 0.14635198692907342, 0.5796307228560501, 0.41442099393808557, 0.6320879487294916, 0.5896219833343029, 0.1824237031232193, 0.6528038898591414, 0.7237160098120983, 0.8399485664792954, 0.28995645136329296, 0.36728834054112486], \"y\": [0.1573491188993722, 0.35087698543231305, 0.599562082292021, 0.6867189744784168, 0.8268688086456202, 0.5731208054126883, 0.39915833940261775, 0.7911398951599289, 0.2805145075469376, 0.375706041906146, 0.8445051976231477, 0.7796624385008002, 0.7021851827226736, 0.25443971834635504, 0.6082948518180257, 0.4345098718332456, 0.1869488002065781, 0.6408552250897722, 0.15337610134419222, 0.13365251010431375, 0.21202950161095535, 0.8662278502257881, 0.8439387958252247]}, {\"hoverinfo\": \"none\", \"marker\": {\"color\": \"rgba(255, 255, 255, 0)\", \"line\": {\"color\": \"rgba(255, 255, 255, 0)\", \"width\": 0}, \"size\": 0, \"symbol\": \"circle\"}, \"mode\": \"markers\", \"type\": \"scatter\", \"x\": [0.5, 0.0, 1.0, 0.5], \"y\": [0.0, 0.5, 0.5, 1.0]}, {\"hoverinfo\": \"none\", \"mode\": \"text\", \"text\": [], \"textfont\": {\"color\": \"rgb(255, 255, 255)\"}, \"textposition\": \"middle center\", \"type\": \"scatter\", \"x\": [], \"y\": []}, {\"hoverinfo\": \"none\", \"mode\": \"text\", \"text\": [null, null, null, null, null, null, null, null, null, null, null, null, null, null, null, null, null, null, null, null, null, null, null, null], \"textfont\": {\"color\": \"rgb(0, 0, 0)\"}, \"textposition\": \"middle center\", \"type\": \"scatter\", \"x\": [0.8969272479229876, 0.9671205610838297, 0.5859328538971601, 0.9603033844902715, 0.541539767777948, 0.6959321503799571, 0.4513743135793827, 0.5265982309100953, 1.0, 0.8384134868355274, 0.10703803084939298, 0.016638876749513993, 0.0, 0.4632031655823174, 0.5420145290189367, 0.49127757609071715, 0.08079590991010765, 0.6284531747732923, 0.7706558708114379, 0.981961543078144, 0.2549707151614372, 0.41449715996846337, 0.7030621177899727, 0.2972484491197542], \"y\": [0.07591172307437734, 0.46679935308498577, 0.46463476837888196, 0.7254190914051981, 0.911248952764884, 0.7004422337070387, 0.4654433099464003, 0.9103095895962737, 0.3292976695467356, 0.5064006640943203, 0.9240027136019999, 0.7875308468357297, 0.6327840211798781, 0.17392603552532007, 0.5457561517947144, 0.045188002972003934, 0.5153267538965299, 0.0, 0.004470184941399109, 0.1916672663906751, 0.9986950774308483, 1.0, 0.2840430477449322, 0.719753511667191]}],\n",
       "                        {\"height\": 450, \"margin\": {\"b\": 0, \"l\": 0, \"r\": 0, \"t\": 0}, \"plot_bgcolor\": \"rgb(255, 255, 255)\", \"showlegend\": false, \"template\": {\"data\": {\"bar\": [{\"error_x\": {\"color\": \"#2a3f5f\"}, \"error_y\": {\"color\": \"#2a3f5f\"}, \"marker\": {\"line\": {\"color\": \"#E5ECF6\", \"width\": 0.5}}, \"type\": \"bar\"}], \"barpolar\": [{\"marker\": {\"line\": {\"color\": \"#E5ECF6\", \"width\": 0.5}}, \"type\": \"barpolar\"}], \"carpet\": [{\"aaxis\": {\"endlinecolor\": \"#2a3f5f\", \"gridcolor\": \"white\", \"linecolor\": \"white\", \"minorgridcolor\": \"white\", \"startlinecolor\": \"#2a3f5f\"}, \"baxis\": {\"endlinecolor\": \"#2a3f5f\", \"gridcolor\": \"white\", \"linecolor\": \"white\", \"minorgridcolor\": \"white\", \"startlinecolor\": \"#2a3f5f\"}, \"type\": \"carpet\"}], \"choropleth\": [{\"colorbar\": {\"outlinewidth\": 0, \"ticks\": \"\"}, \"type\": \"choropleth\"}], \"contour\": [{\"colorbar\": {\"outlinewidth\": 0, \"ticks\": \"\"}, \"colorscale\": [[0.0, \"#0d0887\"], [0.1111111111111111, \"#46039f\"], [0.2222222222222222, \"#7201a8\"], [0.3333333333333333, \"#9c179e\"], [0.4444444444444444, \"#bd3786\"], [0.5555555555555556, \"#d8576b\"], [0.6666666666666666, \"#ed7953\"], [0.7777777777777778, \"#fb9f3a\"], [0.8888888888888888, \"#fdca26\"], [1.0, \"#f0f921\"]], \"type\": \"contour\"}], \"contourcarpet\": [{\"colorbar\": {\"outlinewidth\": 0, \"ticks\": \"\"}, \"type\": \"contourcarpet\"}], \"heatmap\": [{\"colorbar\": {\"outlinewidth\": 0, \"ticks\": \"\"}, \"colorscale\": [[0.0, \"#0d0887\"], [0.1111111111111111, \"#46039f\"], [0.2222222222222222, \"#7201a8\"], [0.3333333333333333, \"#9c179e\"], [0.4444444444444444, \"#bd3786\"], [0.5555555555555556, \"#d8576b\"], [0.6666666666666666, \"#ed7953\"], [0.7777777777777778, \"#fb9f3a\"], [0.8888888888888888, \"#fdca26\"], [1.0, \"#f0f921\"]], \"type\": \"heatmap\"}], \"heatmapgl\": [{\"colorbar\": {\"outlinewidth\": 0, \"ticks\": \"\"}, \"colorscale\": [[0.0, \"#0d0887\"], [0.1111111111111111, \"#46039f\"], [0.2222222222222222, \"#7201a8\"], [0.3333333333333333, \"#9c179e\"], [0.4444444444444444, \"#bd3786\"], [0.5555555555555556, \"#d8576b\"], [0.6666666666666666, \"#ed7953\"], [0.7777777777777778, \"#fb9f3a\"], [0.8888888888888888, \"#fdca26\"], [1.0, \"#f0f921\"]], \"type\": \"heatmapgl\"}], \"histogram\": [{\"marker\": {\"colorbar\": {\"outlinewidth\": 0, \"ticks\": \"\"}}, \"type\": \"histogram\"}], \"histogram2d\": [{\"colorbar\": {\"outlinewidth\": 0, \"ticks\": \"\"}, \"colorscale\": [[0.0, \"#0d0887\"], [0.1111111111111111, \"#46039f\"], [0.2222222222222222, \"#7201a8\"], [0.3333333333333333, \"#9c179e\"], [0.4444444444444444, \"#bd3786\"], [0.5555555555555556, \"#d8576b\"], [0.6666666666666666, \"#ed7953\"], [0.7777777777777778, \"#fb9f3a\"], [0.8888888888888888, \"#fdca26\"], [1.0, \"#f0f921\"]], \"type\": \"histogram2d\"}], \"histogram2dcontour\": [{\"colorbar\": {\"outlinewidth\": 0, \"ticks\": \"\"}, \"colorscale\": [[0.0, \"#0d0887\"], [0.1111111111111111, \"#46039f\"], [0.2222222222222222, \"#7201a8\"], [0.3333333333333333, \"#9c179e\"], [0.4444444444444444, \"#bd3786\"], [0.5555555555555556, \"#d8576b\"], [0.6666666666666666, \"#ed7953\"], [0.7777777777777778, \"#fb9f3a\"], [0.8888888888888888, \"#fdca26\"], [1.0, \"#f0f921\"]], \"type\": \"histogram2dcontour\"}], \"mesh3d\": [{\"colorbar\": {\"outlinewidth\": 0, \"ticks\": \"\"}, \"type\": \"mesh3d\"}], \"parcoords\": [{\"line\": {\"colorbar\": {\"outlinewidth\": 0, \"ticks\": \"\"}}, \"type\": \"parcoords\"}], \"scatter\": [{\"marker\": {\"colorbar\": {\"outlinewidth\": 0, \"ticks\": \"\"}}, \"type\": \"scatter\"}], \"scatter3d\": [{\"line\": {\"colorbar\": {\"outlinewidth\": 0, \"ticks\": \"\"}}, \"marker\": {\"colorbar\": {\"outlinewidth\": 0, \"ticks\": \"\"}}, \"type\": \"scatter3d\"}], \"scattercarpet\": [{\"marker\": {\"colorbar\": {\"outlinewidth\": 0, \"ticks\": \"\"}}, \"type\": \"scattercarpet\"}], \"scattergeo\": [{\"marker\": {\"colorbar\": {\"outlinewidth\": 0, \"ticks\": \"\"}}, \"type\": \"scattergeo\"}], \"scattergl\": [{\"marker\": {\"colorbar\": {\"outlinewidth\": 0, \"ticks\": \"\"}}, \"type\": \"scattergl\"}], \"scattermapbox\": [{\"marker\": {\"colorbar\": {\"outlinewidth\": 0, \"ticks\": \"\"}}, \"type\": \"scattermapbox\"}], \"scatterpolar\": [{\"marker\": {\"colorbar\": {\"outlinewidth\": 0, \"ticks\": \"\"}}, \"type\": \"scatterpolar\"}], \"scatterpolargl\": [{\"marker\": {\"colorbar\": {\"outlinewidth\": 0, \"ticks\": \"\"}}, \"type\": \"scatterpolargl\"}], \"scatterternary\": [{\"marker\": {\"colorbar\": {\"outlinewidth\": 0, \"ticks\": \"\"}}, \"type\": \"scatterternary\"}], \"surface\": [{\"colorbar\": {\"outlinewidth\": 0, \"ticks\": \"\"}, \"colorscale\": [[0.0, \"#0d0887\"], [0.1111111111111111, \"#46039f\"], [0.2222222222222222, \"#7201a8\"], [0.3333333333333333, \"#9c179e\"], [0.4444444444444444, \"#bd3786\"], [0.5555555555555556, \"#d8576b\"], [0.6666666666666666, \"#ed7953\"], [0.7777777777777778, \"#fb9f3a\"], [0.8888888888888888, \"#fdca26\"], [1.0, \"#f0f921\"]], \"type\": \"surface\"}], \"table\": [{\"cells\": {\"fill\": {\"color\": \"#EBF0F8\"}, \"line\": {\"color\": \"white\"}}, \"header\": {\"fill\": {\"color\": \"#C8D4E3\"}, \"line\": {\"color\": \"white\"}}, \"type\": \"table\"}]}, \"layout\": {\"annotationdefaults\": {\"arrowcolor\": \"#2a3f5f\", \"arrowhead\": 0, \"arrowwidth\": 1}, \"colorscale\": {\"diverging\": [[0, \"#8e0152\"], [0.1, \"#c51b7d\"], [0.2, \"#de77ae\"], [0.3, \"#f1b6da\"], [0.4, \"#fde0ef\"], [0.5, \"#f7f7f7\"], [0.6, \"#e6f5d0\"], [0.7, \"#b8e186\"], [0.8, \"#7fbc41\"], [0.9, \"#4d9221\"], [1, \"#276419\"]], \"sequential\": [[0.0, \"#0d0887\"], [0.1111111111111111, \"#46039f\"], [0.2222222222222222, \"#7201a8\"], [0.3333333333333333, \"#9c179e\"], [0.4444444444444444, \"#bd3786\"], [0.5555555555555556, \"#d8576b\"], [0.6666666666666666, \"#ed7953\"], [0.7777777777777778, \"#fb9f3a\"], [0.8888888888888888, \"#fdca26\"], [1.0, \"#f0f921\"]], \"sequentialminus\": [[0.0, \"#0d0887\"], [0.1111111111111111, \"#46039f\"], [0.2222222222222222, \"#7201a8\"], [0.3333333333333333, \"#9c179e\"], [0.4444444444444444, \"#bd3786\"], [0.5555555555555556, \"#d8576b\"], [0.6666666666666666, \"#ed7953\"], [0.7777777777777778, \"#fb9f3a\"], [0.8888888888888888, \"#fdca26\"], [1.0, \"#f0f921\"]]}, \"colorway\": [\"#636efa\", \"#EF553B\", \"#00cc96\", \"#ab63fa\", \"#FFA15A\", \"#19d3f3\", \"#FF6692\", \"#B6E880\", \"#FF97FF\", \"#FECB52\"], \"font\": {\"color\": \"#2a3f5f\"}, \"geo\": {\"bgcolor\": \"white\", \"lakecolor\": \"white\", \"landcolor\": \"#E5ECF6\", \"showlakes\": true, \"showland\": true, \"subunitcolor\": \"white\"}, \"hoverlabel\": {\"align\": \"left\"}, \"hovermode\": \"closest\", \"mapbox\": {\"style\": \"light\"}, \"paper_bgcolor\": \"white\", \"plot_bgcolor\": \"#E5ECF6\", \"polar\": {\"angularaxis\": {\"gridcolor\": \"white\", \"linecolor\": \"white\", \"ticks\": \"\"}, \"bgcolor\": \"#E5ECF6\", \"radialaxis\": {\"gridcolor\": \"white\", \"linecolor\": \"white\", \"ticks\": \"\"}}, \"scene\": {\"xaxis\": {\"backgroundcolor\": \"#E5ECF6\", \"gridcolor\": \"white\", \"gridwidth\": 2, \"linecolor\": \"white\", \"showbackground\": true, \"ticks\": \"\", \"zerolinecolor\": \"white\"}, \"yaxis\": {\"backgroundcolor\": \"#E5ECF6\", \"gridcolor\": \"white\", \"gridwidth\": 2, \"linecolor\": \"white\", \"showbackground\": true, \"ticks\": \"\", \"zerolinecolor\": \"white\"}, \"zaxis\": {\"backgroundcolor\": \"#E5ECF6\", \"gridcolor\": \"white\", \"gridwidth\": 2, \"linecolor\": \"white\", \"showbackground\": true, \"ticks\": \"\", \"zerolinecolor\": \"white\"}}, \"shapedefaults\": {\"line\": {\"color\": \"#2a3f5f\"}}, \"ternary\": {\"aaxis\": {\"gridcolor\": \"white\", \"linecolor\": \"white\", \"ticks\": \"\"}, \"baxis\": {\"gridcolor\": \"white\", \"linecolor\": \"white\", \"ticks\": \"\"}, \"bgcolor\": \"#E5ECF6\", \"caxis\": {\"gridcolor\": \"white\", \"linecolor\": \"white\", \"ticks\": \"\"}}, \"title\": {\"x\": 0.05}, \"xaxis\": {\"automargin\": true, \"gridcolor\": \"white\", \"linecolor\": \"white\", \"ticks\": \"\", \"zerolinecolor\": \"white\", \"zerolinewidth\": 2}, \"yaxis\": {\"automargin\": true, \"gridcolor\": \"white\", \"linecolor\": \"white\", \"ticks\": \"\", \"zerolinecolor\": \"white\", \"zerolinewidth\": 2}}}, \"width\": 800, \"xaxis\": {\"showgrid\": false, \"showticklabels\": false, \"zeroline\": false}, \"yaxis\": {\"showgrid\": false, \"showticklabels\": false, \"zeroline\": false}},\n",
       "                        {\"displayModeBar\": false, \"responsive\": true}\n",
       "                    ).then(function(){\n",
       "                            \n",
       "var gd = document.getElementById('8306bb2e-047e-42f1-9eef-b8d61d5a8699');\n",
       "var x = new MutationObserver(function (mutations, observer) {{\n",
       "        var display = window.getComputedStyle(gd).display;\n",
       "        if (!display || display === 'none') {{\n",
       "            console.log([gd, 'removed!']);\n",
       "            Plotly.purge(gd);\n",
       "            observer.disconnect();\n",
       "        }}\n",
       "}});\n",
       "\n",
       "// Listen for the removal of the full notebook cells\n",
       "var notebookContainer = gd.closest('#notebook-container');\n",
       "if (notebookContainer) {{\n",
       "    x.observe(notebookContainer, {childList: true});\n",
       "}}\n",
       "\n",
       "// Listen for the clearing of the current output cell\n",
       "var outputEl = gd.closest('.output');\n",
       "if (outputEl) {{\n",
       "    x.observe(outputEl, {childList: true});\n",
       "}}\n",
       "\n",
       "                        })\n",
       "                };\n",
       "                });\n",
       "            </script>\n",
       "        </div>"
      ]
     },
     "metadata": {},
     "output_type": "display_data"
    }
   ],
   "source": [
    "g.set_all_nodes('labpos', 'hover')\n",
    "g.move('kamada_kawai')\n",
    "g.draw()"
   ]
  },
  {
   "cell_type": "code",
   "execution_count": 14,
   "metadata": {},
   "outputs": [
    {
     "data": {
      "text/html": [
       "\n",
       "        <iframe\n",
       "            width=\"810\"\n",
       "            height=\"460\"\n",
       "            src=\"__fmcache__\\1796128923080.html\"\n",
       "            frameborder=\"0\"\n",
       "            allowfullscreen\n",
       "        ></iframe>\n",
       "        "
      ],
      "text/plain": [
       "<IPython.lib.display.IFrame at 0x1a232ea7e48>"
      ]
     },
     "metadata": {},
     "output_type": "display_data"
    }
   ],
   "source": [
    "g.interact()"
   ]
  },
  {
   "cell_type": "code",
   "execution_count": null,
   "metadata": {},
   "outputs": [],
   "source": []
  }
 ],
 "metadata": {
  "kernelspec": {
   "display_name": "Python 3",
   "language": "python",
   "name": "python3"
  },
  "language_info": {
   "codemirror_mode": {
    "name": "ipython",
    "version": 3
   },
   "file_extension": ".py",
   "mimetype": "text/x-python",
   "name": "python",
   "nbconvert_exporter": "python",
   "pygments_lexer": "ipython3",
   "version": "3.7.3"
  }
 },
 "nbformat": 4,
 "nbformat_minor": 2
}
