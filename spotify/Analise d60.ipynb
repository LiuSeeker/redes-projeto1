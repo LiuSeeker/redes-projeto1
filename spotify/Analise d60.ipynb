{
 "cells": [
  {
   "cell_type": "code",
   "execution_count": 28,
   "metadata": {},
   "outputs": [],
   "source": [
    "import networkx as nx\n",
    "import freeman as fm\n",
    "import matplotlib.pyplot as plt\n",
    "from pprint import pprint\n",
    "import pymysql\n",
    "import sys\n",
    "from collections import defaultdict, OrderedDict\n",
    "import graph_tool as gt\n",
    "from graph_tool import centrality, draw\n",
    "import pandas as pd\n",
    "import statsmodels.api as sm\n",
    "import statsmodels\n",
    "import math\n",
    "\n",
    "import pickle\n",
    "\n",
    "from setup import mysql_setup"
   ]
  },
  {
   "cell_type": "markdown",
   "metadata": {},
   "source": [
    "# Decada 60"
   ]
  },
  {
   "cell_type": "code",
   "execution_count": 2,
   "metadata": {},
   "outputs": [],
   "source": [
    "\n",
    "with open(\"listas.pickle\", \"rb\") as fp:\n",
    "    list_60, list_70, list_80, list_90, list_00, list_10 = pickle.load(fp)\n",
    "with open(\"infos.pickle\", \"rb\") as fp:\n",
    "    d = pickle.load(fp)\n",
    "with open(\"infos2.pickle\", \"rb\") as fp:\n",
    "    d_60, d_70, d_80, d_90, d_00 = pickle.load(fp)\n",
    "with open(\"d_60_1_listas.pickle\", \"rb\") as fp:\n",
    "    lista_l, lista_p, lista_d, lista_b, lista_c = pickle.load(fp)"
   ]
  },
  {
   "cell_type": "code",
   "execution_count": 24,
   "metadata": {},
   "outputs": [],
   "source": [
    "for i in range(len(lista_c)):\n",
    "    if math.isnan(lista_c[i]):\n",
    "        lista_c[i] = 0"
   ]
  },
  {
   "cell_type": "markdown",
   "metadata": {},
   "source": [
    "## Popularity x Degree"
   ]
  },
  {
   "cell_type": "code",
   "execution_count": 41,
   "metadata": {},
   "outputs": [
    {
     "data": {
      "image/png": "[encoded data removed]",
      "text/plain": [
       "<Figure size 432x288 with 1 Axes>"
      ]
     },
     "metadata": {
      "needs_background": "light"
     },
     "output_type": "display_data"
    }
   ],
   "source": [
    "plt.scatter(lista_d, lista_p)\n",
    "plt.show()"
   ]
  },
  {
   "cell_type": "code",
   "execution_count": 33,
   "metadata": {},
   "outputs": [
    {
     "name": "stdout",
     "output_type": "stream",
     "text": [
      "                                 OLS Regression Results                                \n",
      "=======================================================================================\n",
      "Dep. Variable:                      y   R-squared (uncentered):                   0.357\n",
      "Model:                            OLS   Adj. R-squared (uncentered):              0.357\n",
      "Method:                 Least Squares   F-statistic:                              1366.\n",
      "Date:                Thu, 28 Nov 2019   Prob (F-statistic):                   3.61e-238\n",
      "Time:                        14:18:02   Log-Likelihood:                         -13152.\n",
      "No. Observations:                2461   AIC:                                  2.631e+04\n",
      "Df Residuals:                    2460   BIC:                                  2.631e+04\n",
      "Df Model:                           1                                                  \n",
      "Covariance Type:            nonrobust                                                  \n",
      "==============================================================================\n",
      "                 coef    std err          t      P>|t|      [0.025      0.975]\n",
      "------------------------------------------------------------------------------\n",
      "x1             0.0065      0.000     36.954      0.000       0.006       0.007\n",
      "==============================================================================\n",
      "Omnibus:                      500.454   Durbin-Watson:                   0.690\n",
      "Prob(Omnibus):                  0.000   Jarque-Bera (JB):              854.957\n",
      "Skew:                          -1.347   Prob(JB):                    2.23e-186\n",
      "Kurtosis:                       4.041   Cond. No.                         1.00\n",
      "==============================================================================\n",
      "\n",
      "Warnings:\n",
      "[1] Standard Errors assume that the covariance matrix of the errors is correctly specified.\n"
     ]
    }
   ],
   "source": [
    "model_d = sm.OLS(lista_p, lista_d)\n",
    "results_d = model_d.fit()\n",
    "print(results_d.summary())"
   ]
  },
  {
   "cell_type": "markdown",
   "metadata": {},
   "source": [
    "## Popularity x Betweenness"
   ]
  },
  {
   "cell_type": "code",
   "execution_count": 42,
   "metadata": {},
   "outputs": [
    {
     "data": {
      "image/png": "[encoded data removed]",
      "text/plain": [
       "<Figure size 432x288 with 1 Axes>"
      ]
     },
     "metadata": {
      "needs_background": "light"
     },
     "output_type": "display_data"
    }
   ],
   "source": [
    "plt.scatter(lista_b, lista_p)\n",
    "plt.show()"
   ]
  },
  {
   "cell_type": "code",
   "execution_count": 45,
   "metadata": {},
   "outputs": [
    {
     "name": "stdout",
     "output_type": "stream",
     "text": [
      "                                 OLS Regression Results                                \n",
      "=======================================================================================\n",
      "Dep. Variable:                      y   R-squared (uncentered):                   0.225\n",
      "Model:                            OLS   Adj. R-squared (uncentered):              0.225\n",
      "Method:                 Least Squares   F-statistic:                              716.2\n",
      "Date:                Thu, 28 Nov 2019   Prob (F-statistic):                   1.08e-138\n",
      "Time:                        14:43:04   Log-Likelihood:                         -13380.\n",
      "No. Observations:                2461   AIC:                                  2.676e+04\n",
      "Df Residuals:                    2460   BIC:                                  2.677e+04\n",
      "Df Model:                           1                                                  \n",
      "Covariance Type:            nonrobust                                                  \n",
      "==============================================================================\n",
      "                 coef    std err          t      P>|t|      [0.025      0.975]\n",
      "------------------------------------------------------------------------------\n",
      "x1          2.137e+04    798.701     26.762      0.000    1.98e+04    2.29e+04\n",
      "==============================================================================\n",
      "Omnibus:                     2925.450   Durbin-Watson:                   0.429\n",
      "Prob(Omnibus):                  0.000   Jarque-Bera (JB):           383043.303\n",
      "Skew:                          -6.168   Prob(JB):                         0.00\n",
      "Kurtosis:                      62.861   Cond. No.                         1.00\n",
      "==============================================================================\n",
      "\n",
      "Warnings:\n",
      "[1] Standard Errors assume that the covariance matrix of the errors is correctly specified.\n"
     ]
    }
   ],
   "source": [
    "model_b = sm.OLS(lista_p, lista_b)\n",
    "results_b = model_b.fit()\n",
    "print(results_b.summary())"
   ]
  },
  {
   "cell_type": "markdown",
   "metadata": {},
   "source": [
    "## Popularity x Closeness"
   ]
  },
  {
   "cell_type": "code",
   "execution_count": 43,
   "metadata": {},
   "outputs": [
    {
     "data": {
      "image/png": "[encoded data removed]",
      "text/plain": [
       "<Figure size 432x288 with 1 Axes>"
      ]
     },
     "metadata": {
      "needs_background": "light"
     },
     "output_type": "display_data"
    }
   ],
   "source": [
    "plt.scatter(lista_c, lista_p)\n",
    "plt.show()"
   ]
  },
  {
   "cell_type": "code",
   "execution_count": 44,
   "metadata": {},
   "outputs": [
    {
     "name": "stdout",
     "output_type": "stream",
     "text": [
      "                                 OLS Regression Results                                \n",
      "=======================================================================================\n",
      "Dep. Variable:                      y   R-squared (uncentered):                   0.954\n",
      "Model:                            OLS   Adj. R-squared (uncentered):              0.954\n",
      "Method:                 Least Squares   F-statistic:                          5.065e+04\n",
      "Date:                Thu, 28 Nov 2019   Prob (F-statistic):                        0.00\n",
      "Time:                        14:43:00   Log-Likelihood:                         -9914.4\n",
      "No. Observations:                2461   AIC:                                  1.983e+04\n",
      "Df Residuals:                    2460   BIC:                                  1.984e+04\n",
      "Df Model:                           1                                                  \n",
      "Covariance Type:            nonrobust                                                  \n",
      "==============================================================================\n",
      "                 coef    std err          t      P>|t|      [0.025      0.975]\n",
      "------------------------------------------------------------------------------\n",
      "x1           152.3220      0.677    225.063      0.000     150.995     153.649\n",
      "==============================================================================\n",
      "Omnibus:                      502.101   Durbin-Watson:                   1.903\n",
      "Prob(Omnibus):                  0.000   Jarque-Bera (JB):            11004.961\n",
      "Skew:                          -0.375   Prob(JB):                         0.00\n",
      "Kurtosis:                      13.332   Cond. No.                         1.00\n",
      "==============================================================================\n",
      "\n",
      "Warnings:\n",
      "[1] Standard Errors assume that the covariance matrix of the errors is correctly specified.\n"
     ]
    }
   ],
   "source": [
    "model_c = sm.OLS(lista_p, lista_c)\n",
    "results_c = model_c.fit()\n",
    "print(results_c.summary())"
   ]
  },
  {
   "cell_type": "code",
   "execution_count": null,
   "metadata": {},
   "outputs": [],
   "source": []
  },
  {
   "cell_type": "code",
   "execution_count": null,
   "metadata": {},
   "outputs": [],
   "source": []
  }
 ],
 "metadata": {
  "kernelspec": {
   "display_name": "Python 3",
   "language": "python",
   "name": "python3"
  },
  "language_info": {
   "codemirror_mode": {
    "name": "ipython",
    "version": 3
   },
   "file_extension": ".py",
   "mimetype": "text/x-python",
   "name": "python",
   "nbconvert_exporter": "python",
   "pygments_lexer": "ipython3",
   "version": "3.6.8"
  }
 },
 "nbformat": 4,
 "nbformat_minor": 2
}
