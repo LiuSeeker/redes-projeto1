{
 "cells": [
  {
   "cell_type": "code",
   "execution_count": 1,
   "metadata": {},
   "outputs": [
    {
     "data": {
      "text/html": [
       "        <script type=\"text/javascript\">\n",
       "        window.PlotlyConfig = {MathJaxConfig: 'local'};\n",
       "        if (window.MathJax) {MathJax.Hub.Config({SVG: {font: \"STIX-Web\"}});}\n",
       "        if (typeof require !== 'undefined') {\n",
       "        require.undef(\"plotly\");\n",
       "        requirejs.config({\n",
       "            paths: {\n",
       "                'plotly': ['https://cdn.plot.ly/plotly-latest.min']\n",
       "            }\n",
       "        });\n",
       "        require(['plotly'], function(Plotly) {\n",
       "            window._Plotly = Plotly;\n",
       "        });\n",
       "        }\n",
       "        </script>\n",
       "        "
      ]
     },
     "metadata": {},
     "output_type": "display_data"
    }
   ],
   "source": [
    "import networkx as nx\n",
    "import freeman as fm\n",
    "import matplotlib.pyplot as plt\n",
    "from pprint import pprint\n",
    "import pymysql\n",
    "import sys\n",
    "from collections import defaultdict, OrderedDict\n",
    "import graph_tool as gt\n",
    "from graph_tool import centrality, draw\n",
    "import pandas as pd\n",
    "import statsmodels.api as sm\n",
    "import statsmodels\n",
    "import math\n",
    "\n",
    "import pickle\n",
    "\n",
    "from setup import mysql_setup"
   ]
  },
  {
   "cell_type": "markdown",
   "metadata": {},
   "source": [
    "# Decada 80"
   ]
  },
  {
   "cell_type": "code",
   "execution_count": 3,
   "metadata": {},
   "outputs": [],
   "source": [
    "\n",
    "with open(\"listas.pickle\", \"rb\") as fp:\n",
    "    list_60, list_70, list_80, list_90, list_00, list_10 = pickle.load(fp)\n",
    "with open(\"infos.pickle\", \"rb\") as fp:\n",
    "    d = pickle.load(fp)\n",
    "with open(\"infos2.pickle\", \"rb\") as fp:\n",
    "    d_60, d_70, d_80, d_90, d_00 = pickle.load(fp)\n",
    "with open(\"d_80_1_listas.pickle\", \"rb\") as fp:\n",
    "    lista_l, lista_p, lista_d, lista_b, lista_c = pickle.load(fp)"
   ]
  },
  {
   "cell_type": "code",
   "execution_count": 4,
   "metadata": {},
   "outputs": [],
   "source": [
    "for i in range(len(lista_c)):\n",
    "    if math.isnan(lista_c[i]):\n",
    "        lista_c[i] = 0"
   ]
  },
  {
   "cell_type": "markdown",
   "metadata": {},
   "source": [
    "## Popularity x Degree"
   ]
  },
  {
   "cell_type": "code",
   "execution_count": 5,
   "metadata": {},
   "outputs": [
    {
     "data": {
      "image/png": "[encoded data removed]",
      "text/plain": [
       "<Figure size 432x288 with 1 Axes>"
      ]
     },
     "metadata": {
      "needs_background": "light"
     },
     "output_type": "display_data"
    }
   ],
   "source": [
    "plt.scatter(lista_d, lista_p)\n",
    "plt.show()"
   ]
  },
  {
   "cell_type": "code",
   "execution_count": 6,
   "metadata": {},
   "outputs": [
    {
     "name": "stdout",
     "output_type": "stream",
     "text": [
      "                                 OLS Regression Results                                \n",
      "=======================================================================================\n",
      "Dep. Variable:                      y   R-squared (uncentered):                   0.453\n",
      "Model:                            OLS   Adj. R-squared (uncentered):              0.453\n",
      "Method:                 Least Squares   F-statistic:                              1684.\n",
      "Date:                Thu, 28 Nov 2019   Prob (F-statistic):                   1.01e-268\n",
      "Time:                        14:44:57   Log-Likelihood:                         -10722.\n",
      "No. Observations:                2035   AIC:                                  2.145e+04\n",
      "Df Residuals:                    2034   BIC:                                  2.145e+04\n",
      "Df Model:                           1                                                  \n",
      "Covariance Type:            nonrobust                                                  \n",
      "==============================================================================\n",
      "                 coef    std err          t      P>|t|      [0.025      0.975]\n",
      "------------------------------------------------------------------------------\n",
      "x1             0.0057      0.000     41.037      0.000       0.005       0.006\n",
      "==============================================================================\n",
      "Omnibus:                      295.374   Durbin-Watson:                   0.861\n",
      "Prob(Omnibus):                  0.000   Jarque-Bera (JB):              433.046\n",
      "Skew:                          -1.096   Prob(JB):                     9.23e-95\n",
      "Kurtosis:                       3.551   Cond. No.                         1.00\n",
      "==============================================================================\n",
      "\n",
      "Warnings:\n",
      "[1] Standard Errors assume that the covariance matrix of the errors is correctly specified.\n"
     ]
    }
   ],
   "source": [
    "model_d = sm.OLS(lista_p, lista_d)\n",
    "results_d = model_d.fit()\n",
    "print(results_d.summary())"
   ]
  },
  {
   "cell_type": "markdown",
   "metadata": {},
   "source": [
    "## Popularity x Betweenness"
   ]
  },
  {
   "cell_type": "code",
   "execution_count": 7,
   "metadata": {},
   "outputs": [
    {
     "data": {
      "image/png": "[encoded data removed]",
      "text/plain": [
       "<Figure size 432x288 with 1 Axes>"
      ]
     },
     "metadata": {
      "needs_background": "light"
     },
     "output_type": "display_data"
    }
   ],
   "source": [
    "plt.scatter(lista_b, lista_p)\n",
    "plt.show()"
   ]
  },
  {
   "cell_type": "code",
   "execution_count": 8,
   "metadata": {},
   "outputs": [
    {
     "name": "stdout",
     "output_type": "stream",
     "text": [
      "                                 OLS Regression Results                                \n",
      "=======================================================================================\n",
      "Dep. Variable:                      y   R-squared (uncentered):                   0.178\n",
      "Model:                            OLS   Adj. R-squared (uncentered):              0.178\n",
      "Method:                 Least Squares   F-statistic:                              440.3\n",
      "Date:                Thu, 28 Nov 2019   Prob (F-statistic):                    1.20e-88\n",
      "Time:                        14:44:58   Log-Likelihood:                         -11137.\n",
      "No. Observations:                2035   AIC:                                  2.228e+04\n",
      "Df Residuals:                    2034   BIC:                                  2.228e+04\n",
      "Df Model:                           1                                                  \n",
      "Covariance Type:            nonrobust                                                  \n",
      "==============================================================================\n",
      "                 coef    std err          t      P>|t|      [0.025      0.975]\n",
      "------------------------------------------------------------------------------\n",
      "x1           1.55e+04    738.614     20.983      0.000     1.4e+04    1.69e+04\n",
      "==============================================================================\n",
      "Omnibus:                     2809.090   Durbin-Watson:                   0.342\n",
      "Prob(Omnibus):                  0.000   Jarque-Bera (JB):           947924.390\n",
      "Skew:                          -7.681   Prob(JB):                         0.00\n",
      "Kurtosis:                     107.611   Cond. No.                         1.00\n",
      "==============================================================================\n",
      "\n",
      "Warnings:\n",
      "[1] Standard Errors assume that the covariance matrix of the errors is correctly specified.\n"
     ]
    }
   ],
   "source": [
    "model_b = sm.OLS(lista_p, lista_b)\n",
    "results_b = model_b.fit()\n",
    "print(results_b.summary())"
   ]
  },
  {
   "cell_type": "markdown",
   "metadata": {},
   "source": [
    "## Popularity x Closeness"
   ]
  },
  {
   "cell_type": "code",
   "execution_count": 9,
   "metadata": {},
   "outputs": [
    {
     "data": {
      "image/png": "[encoded data removed]",
      "text/plain": [
       "<Figure size 432x288 with 1 Axes>"
      ]
     },
     "metadata": {
      "needs_background": "light"
     },
     "output_type": "display_data"
    }
   ],
   "source": [
    "plt.scatter(lista_c, lista_p)\n",
    "plt.show()"
   ]
  },
  {
   "cell_type": "code",
   "execution_count": 10,
   "metadata": {},
   "outputs": [
    {
     "name": "stdout",
     "output_type": "stream",
     "text": [
      "                                 OLS Regression Results                                \n",
      "=======================================================================================\n",
      "Dep. Variable:                      y   R-squared (uncentered):                   0.945\n",
      "Model:                            OLS   Adj. R-squared (uncentered):              0.945\n",
      "Method:                 Least Squares   F-statistic:                          3.516e+04\n",
      "Date:                Thu, 28 Nov 2019   Prob (F-statistic):                        0.00\n",
      "Time:                        14:44:58   Log-Likelihood:                         -8378.9\n",
      "No. Observations:                2035   AIC:                                  1.676e+04\n",
      "Df Residuals:                    2034   BIC:                                  1.677e+04\n",
      "Df Model:                           1                                                  \n",
      "Covariance Type:            nonrobust                                                  \n",
      "==============================================================================\n",
      "                 coef    std err          t      P>|t|      [0.025      0.975]\n",
      "------------------------------------------------------------------------------\n",
      "x1           141.9131      0.757    187.515      0.000     140.429     143.397\n",
      "==============================================================================\n",
      "Omnibus:                      565.017   Durbin-Watson:                   2.006\n",
      "Prob(Omnibus):                  0.000   Jarque-Bera (JB):             9858.050\n",
      "Skew:                          -0.842   Prob(JB):                         0.00\n",
      "Kurtosis:                      13.650   Cond. No.                         1.00\n",
      "==============================================================================\n",
      "\n",
      "Warnings:\n",
      "[1] Standard Errors assume that the covariance matrix of the errors is correctly specified.\n"
     ]
    }
   ],
   "source": [
    "model_c = sm.OLS(lista_p, lista_c)\n",
    "results_c = model_c.fit()\n",
    "print(results_c.summary())"
   ]
  },
  {
   "cell_type": "code",
   "execution_count": null,
   "metadata": {},
   "outputs": [],
   "source": []
  },
  {
   "cell_type": "code",
   "execution_count": null,
   "metadata": {},
   "outputs": [],
   "source": []
  }
 ],
 "metadata": {
  "kernelspec": {
   "display_name": "Python 3",
   "language": "python",
   "name": "python3"
  },
  "language_info": {
   "codemirror_mode": {
    "name": "ipython",
    "version": 3
   },
   "file_extension": ".py",
   "mimetype": "text/x-python",
   "name": "python",
   "nbconvert_exporter": "python",
   "pygments_lexer": "ipython3",
   "version": "3.6.8"
  }
 },
 "nbformat": 4,
 "nbformat_minor": 2
}
